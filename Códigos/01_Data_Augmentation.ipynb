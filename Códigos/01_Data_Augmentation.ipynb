{
 "cells": [
  {
   "cell_type": "markdown",
   "metadata": {},
   "source": [
    "# Trabalho de conclusão de curso - Data Science com ênfase em Machine Learning\n",
    "## Alunos: Douglas Tadeu Sabatini & Jari Fernandes Nogueira Neto\n",
    "\n",
    "\n",
    "### FIB Bauru - 06/2020"
   ]
  },
  {
   "cell_type": "markdown",
   "metadata": {},
   "source": [
    "### Data augmentation.\n",
    "- Processo para criação de um banco de dados artificial, para treinamento posterior em uma CNN (Convolutional Neural Network)."
   ]
  },
  {
   "cell_type": "code",
   "execution_count": 1,
   "metadata": {},
   "outputs": [],
   "source": [
    "# Importando bibliotecas que serão utilizadas.\n",
    "import cv2\n",
    "import numpy as np\n",
    "\n",
    "import matplotlib.pyplot as plt\n",
    "import os\n",
    "\n",
    "os.chdir('/home/jarineto/Documentos/MBA_FIB/TCC')"
   ]
  },
  {
   "cell_type": "code",
   "execution_count": 2,
   "metadata": {},
   "outputs": [
    {
     "name": "stdout",
     "output_type": "stream",
     "text": [
      "Shape A:  (240, 170)\n"
     ]
    },
    {
     "data": {
      "image/png": "[encoded data removed]",
      "text/plain": [
       "<Figure size 432x288 with 1 Axes>"
      ]
     },
     "metadata": {
      "needs_background": "light"
     },
     "output_type": "display_data"
    }
   ],
   "source": [
    "# Lendo amostra de imagem, para validar métodos para o data augmentation.\n",
    "img= cv2.imread('./Caracteres/05.BATCH_5/0_Chars/A.png', 0)\n",
    "\n",
    "# Exibindo imagem teste e dimensões da mesma.\n",
    "plt.imshow(img, 'gray')\n",
    "plt.title(print('Shape A: ',img.shape))\n",
    "plt.show()"
   ]
  },
  {
   "cell_type": "markdown",
   "metadata": {},
   "source": [
    "# Data augmentation passo 1 of 4: Rotação.\n",
    "\n",
    "Aplicando rotação angular nas imagens."
   ]
  },
  {
   "cell_type": "code",
   "execution_count": 3,
   "metadata": {},
   "outputs": [],
   "source": [
    "# Rotacionando a imagem de exemplo.\n",
    "## Será uma variação de 13 graus para cada lado, definidos de acordo com os padrões das imagens capturadas.\n",
    "\n",
    "img_neg = img\n",
    "\n",
    "rows, cols = img.shape\n",
    "\n",
    "R1 = cv2.getRotationMatrix2D((cols/2, rows/2), 13, 1)\n",
    "img1 = cv2.warpAffine(img_neg, R1, (cols, rows))\n",
    "\n",
    "R2 = cv2.getRotationMatrix2D((cols/2, rows/2), 9, 1)\n",
    "img2 = cv2.warpAffine(img_neg, R2, (cols, rows))\n",
    "\n",
    "R3 = cv2.getRotationMatrix2D((cols/2, rows/2), 5, 1)\n",
    "img3 = cv2.warpAffine(img_neg, R3, (cols, rows))\n",
    "\n",
    "R4 = cv2.getRotationMatrix2D((cols/2, rows/2), -5, 1)\n",
    "img4 = cv2.warpAffine(img_neg, R4, (cols, rows))\n",
    "\n",
    "R5 = cv2.getRotationMatrix2D((cols/2, rows/2), -9, 1)\n",
    "img5 = cv2.warpAffine(img_neg, R5, (cols, rows))\n",
    "\n",
    "R6 = cv2.getRotationMatrix2D((cols/2, rows/2), -13, 1)\n",
    "img6 = cv2.warpAffine(img_neg, R6, (cols, rows))\n",
    "\n",
    "\n"
   ]
  },
  {
   "cell_type": "code",
   "execution_count": 4,
   "metadata": {},
   "outputs": [
    {
     "name": "stdout",
     "output_type": "stream",
     "text": [
      "Variação angular que será aplicada nas imagens.\n"
     ]
    },
    {
     "data": {
      "image/png": "[encoded data removed]",
      "text/plain": [
       "<Figure size 432x288 with 7 Axes>"
      ]
     },
     "metadata": {
      "needs_background": "light"
     },
     "output_type": "display_data"
    }
   ],
   "source": [
    "print('Variação angular que será aplicada nas imagens.')\n",
    "\n",
    "plt.subplot(171)\n",
    "plt.imshow(img1, cmap='gray', vmin=0, vmax=255)\n",
    "plt.title('+13')\n",
    "\n",
    "plt.subplot(172)\n",
    "plt.imshow(img2, cmap='gray', vmin=0, vmax=255)\n",
    "plt.title(\"+09\")\n",
    "\n",
    "plt.subplot(173)\n",
    "plt.imshow(img3, cmap='gray', vmin=0, vmax=255)\n",
    "plt.title(\"+05\")\n",
    "\n",
    "plt.subplot(174)\n",
    "plt.imshow(img_neg, cmap='gray', vmin=0, vmax=255)\n",
    "plt.title(\"orig.\")\n",
    "\n",
    "plt.subplot(175)\n",
    "plt.imshow(img4, cmap='gray', vmin=0, vmax=255)\n",
    "plt.title('-05')\n",
    "\n",
    "plt.subplot(176)\n",
    "plt.imshow(img5, cmap='gray', vmin=0, vmax=255)\n",
    "plt.title(\"-09\")\n",
    "\n",
    "plt.subplot(177)\n",
    "plt.imshow(img6, cmap='gray', vmin=0, vmax=255)\n",
    "plt.title(\"-13\")\n",
    "\n",
    "\n",
    "plt.show()"
   ]
  },
  {
   "cell_type": "markdown",
   "metadata": {},
   "source": [
    "### Criando primeiras funções para rotacionar as imagens da pasta."
   ]
  },
  {
   "cell_type": "code",
   "execution_count": 5,
   "metadata": {},
   "outputs": [],
   "source": [
    "# Criando funções para cada ângulo que será rotacionado.\n",
    "\n",
    "def rotacao13plus(image):\n",
    "    R5 = cv2.getRotationMatrix2D((cols/2, rows/2), 13, 1)\n",
    "    return cv2.warpAffine(image, R5, (cols, rows))\n",
    "\n",
    "def rotacao09plus(image):\n",
    "    R6 = cv2.getRotationMatrix2D((cols/2, rows/2), 9, 1)\n",
    "    return cv2.warpAffine(image, R6, (cols, rows))\n",
    "\n",
    "def rotacao05plus(image):\n",
    "    R7 = cv2.getRotationMatrix2D((cols/2, rows/2), 5, 1)\n",
    "    return cv2.warpAffine(image, R7, (cols, rows))\n",
    "\n",
    "def rotacao05minus(image):\n",
    "    R8 = cv2.getRotationMatrix2D((cols/2, rows/2), -5, 1)\n",
    "    return cv2.warpAffine(image, R8, (cols, rows))\n",
    "\n",
    "def rotacao09minus(image):\n",
    "    R9 = cv2.getRotationMatrix2D((cols/2, rows/2), -9, 1)\n",
    "    return cv2.warpAffine(image, R9, (cols, rows))\n",
    "\n",
    "def rotacao13minus(image):\n",
    "    R10 = cv2.getRotationMatrix2D((cols/2, rows/2), -13, 1)\n",
    "    return cv2.warpAffine(image, R10, (cols, rows))\n"
   ]
  },
  {
   "cell_type": "code",
   "execution_count": 10,
   "metadata": {},
   "outputs": [],
   "source": [
    "# Criando dicionário das funções criadas.\n",
    "angle_transform = {'Rotação +13 graus': rotacao13plus,\n",
    "                   'Rotação +09 graus': rotacao09plus,\n",
    "                   'Rotação +05 graus': rotacao05plus,\n",
    "                   'Rotação -05 graus': rotacao05minus,\n",
    "                   'Rotação -09 graus': rotacao09minus,\n",
    "                   'Rotação -13 graus': rotacao13minus,\n",
    "                 }\n",
    "\n",
    "images_path = './Caracteres/06.BATCH_6/0_Chars' # Caminho das imagens para tratamento.\n",
    "angle_augmented_path = './Caracteres/06.BATCH_6/1_Angle' # Caminho para gravação.\n",
    "images=[] # Será utilizado para armazenar os caminhos das imagens, para log."
   ]
  },
  {
   "cell_type": "code",
   "execution_count": 11,
   "metadata": {},
   "outputs": [],
   "source": [
    "for im in os.listdir(images_path):  # Cria um array com as imagens tratadas (log).\n",
    "    images.append(os.path.join(images_path,im))\n",
    "\n",
    "images_to_generate = len(os.listdir(images_path)) # Mapeia a quantidade de arquivos que serão tratados.\n",
    "\n",
    "i=1\n",
    "\n",
    "while i <= images_to_generate:\n",
    "    image = os.listdir(images_path)[i-1]\n",
    "    original_image = cv2.imread(images_path +'/' + image, 0)\n",
    "    transformed_image = None\n",
    "    transformation_count = len(angle_transform) # Tratamentos que serão aplicados em cada imagem.\n",
    "    \n",
    "    n = 1\n",
    "    \n",
    "    while n <= transformation_count:\n",
    "        key = list(angle_transform)[n-1] # Seleciona no dicionário o tratamento à ser aplicado.\n",
    "        \n",
    "        transformed_image = angle_transform[key](original_image)\n",
    "                     \n",
    "        new_image_path = angle_augmented_path + '/' + image[:-4] + '_' + str(n) + '_' + '.png'\n",
    "        \n",
    "        cv2.imwrite(new_image_path, transformed_image) # Grava a imagem tratada.\n",
    "        n = n + 1\n",
    "\n",
    "    path_4_orig = angle_augmented_path + '/' + image[:-4] + '_0_' + '.png'    \n",
    "    cv2.imwrite(path_4_orig, original_image) # Grava a imagem que foi processada.    \n",
    "    i = i+1"
   ]
  },
  {
   "cell_type": "markdown",
   "metadata": {},
   "source": [
    "# Data augmentation passo 2 of 4: Perspective.\n",
    "\n",
    "- Etapa para adicionar perspectivas laterais nas imagens (3D)."
   ]
  },
  {
   "cell_type": "code",
   "execution_count": 6,
   "metadata": {},
   "outputs": [],
   "source": [
    "# Lendo imagem e marcando pontos iniciais.\n",
    "\n",
    "imgB= cv2.imread('./Caracteres/06.BATCH_6/1_Angle/5_0_.png', 0)\n",
    "\n",
    "imgB = cv2.bitwise_not(imgB) # Apenas para facilitar a visualização de alteração da perspectiva.\n",
    "\n",
    "pts = np.float32([[0, 0], [0, 170], [240, 0], [240, 170]]) # Marcando pontos iniciais, fixo.\n",
    "\n",
    "# Adicionando alterações de perspectiva.\n",
    "\n",
    "pts1 = np.float32([[25, 20], [0, 170], [240, 0], [225, 160]])\n",
    "matrix1 = cv2.getPerspectiveTransform(pts, pts1)\n",
    "img_p1 = cv2.warpPerspective(imgB, matrix1, (170, 240))\n",
    "\n",
    "pts2 = np.float32([[0, 0], [25, 150], [225, 10], [240, 170]])\n",
    "matrix2 = cv2.getPerspectiveTransform(pts, pts2)\n",
    "img_p2 = cv2.warpPerspective(imgB, matrix2, (170, 240))\n",
    "\n",
    "pts3 = np.float32([[15, 10], [0, 170], [240, 0], [215, 150]])\n",
    "matrix3 = cv2.getPerspectiveTransform(pts, pts3)\n",
    "img_p3 = cv2.warpPerspective(imgB, matrix3, (170, 240))\n",
    "\n",
    "pts4 = np.float32([[0, 0], [15, 160], [210, 25], [240, 170]])\n",
    "matrix4 = cv2.getPerspectiveTransform(pts, pts4)\n",
    "img_p4 = cv2.warpPerspective(imgB, matrix4, (170, 240))\n",
    "\n"
   ]
  },
  {
   "cell_type": "code",
   "execution_count": 7,
   "metadata": {},
   "outputs": [
    {
     "data": {
      "image/png": "[encoded data removed]",
      "text/plain": [
       "<Figure size 432x288 with 4 Axes>"
      ]
     },
     "metadata": {
      "needs_background": "light"
     },
     "output_type": "display_data"
    }
   ],
   "source": [
    "# Alterações de perspectiva que serão aplicadas.\n",
    "plt.subplot(141)\n",
    "plt.imshow(img_p1, cmap='gray', vmin=0, vmax=255)\n",
    "\n",
    "plt.subplot(142)\n",
    "plt.imshow(img_p2, cmap='gray', vmin=0, vmax=255)\n",
    "\n",
    "plt.subplot(143)\n",
    "plt.imshow(img_p3, cmap='gray', vmin=0, vmax=255)\n",
    "\n",
    "plt.subplot(144)\n",
    "plt.imshow(img_p4, cmap='gray', vmin=0, vmax=255)\n",
    "\n",
    "plt.show()"
   ]
  },
  {
   "cell_type": "code",
   "execution_count": 94,
   "metadata": {},
   "outputs": [],
   "source": [
    "# Criando funções para rotação de perspectiva.\n",
    "\n",
    "pts = np.float32([[0, 0], [0, 170], [240, 0], [240, 170]]) # Pontos fixos - imagem padrão.\n",
    "\n",
    "def perspectiva1(image):\n",
    "    pts1 = np.float32([[25, 20], [0, 170], [240, 0], [225, 160]])\n",
    "    matrix1 = cv2.getPerspectiveTransform(pts, pts1)\n",
    "    return cv2.warpPerspective(image, matrix1, (170, 240))\n",
    "\n",
    "def perspectiva2(image):\n",
    "    pts2 = np.float32([[0, 0], [25, 150], [225, 10], [240, 170]]) \n",
    "    matrix2 = cv2.getPerspectiveTransform(pts, pts2)\n",
    "    return cv2.warpPerspective(image, matrix2, (170, 240))\n",
    "\n",
    "def perspectiva3(image):\n",
    "    pts3 = np.float32([[15, 10], [0, 170], [240, 0], [215, 150]]) \n",
    "    matrix3 = cv2.getPerspectiveTransform(pts, pts3)\n",
    "    return cv2.warpPerspective(image, matrix3, (170, 240))\n",
    "\n",
    "def perspectiva4(image):\n",
    "    pts4 = np.float32([[0, 0], [15, 160], [210, 25], [240, 170]]) \n",
    "    matrix4 = cv2.getPerspectiveTransform(pts, pts4)\n",
    "    return cv2.warpPerspective(image, matrix4, (170, 240))"
   ]
  },
  {
   "cell_type": "code",
   "execution_count": 97,
   "metadata": {},
   "outputs": [],
   "source": [
    "# Criando segundo dicionário de funções.\n",
    "twist_transform = {'Alteração de perspectiva 1': perspectiva1,\n",
    "                   'Alteração de perspectiva 2': perspectiva2,\n",
    "                   'Alteração de perspectiva 3': perspectiva3,\n",
    "                   'Alteração de perspectiva 4': perspectiva4,\n",
    "                 }\n",
    "\n",
    "images_path2 = './Caracteres/06.BATCH_6/1_Angle' # Caminho das imagens para tratamento.\n",
    "twist_augmented_path = './Caracteres/06.BATCH_6/2_Twisted' # Caminho para gravação.\n",
    "images2=[] # Será utilizado para armazenar os caminhos das imagens, para log."
   ]
  },
  {
   "cell_type": "code",
   "execution_count": 98,
   "metadata": {},
   "outputs": [],
   "source": [
    "for im in os.listdir(images_path2):  # Cria um array com as imagens tratadas (log).\n",
    "    images2.append(os.path.join(images_path2, im))\n",
    "\n",
    "images_to_generate = len(os.listdir(images_path2)) # Mapeia a quantidade de arquivos que serão tratados.\n",
    "\n",
    "i=1\n",
    "\n",
    "while i <= images_to_generate:\n",
    "    image = os.listdir(images_path2)[i-1]\n",
    "    original_image = cv2.imread(images_path2 +'/' + image, 0)\n",
    "    transformed_image = None\n",
    "    transformation_count = len(twist_transform) # Tratamentos que serão aplicados em cada imagem.\n",
    "    \n",
    "    n = 1\n",
    "    \n",
    "    while n <= transformation_count:\n",
    "        key = list(twist_transform)[n-1] # Seleciona no dicionário o tratamento à ser aplicado.\n",
    "        \n",
    "        transformed_image = twist_transform[key](original_image)\n",
    "                     \n",
    "        new_image_path = twist_augmented_path + '/' + image[:-4] + str(n) + '_' + '.png'\n",
    "        \n",
    "        cv2.imwrite(new_image_path, transformed_image) # Grava a imagem tratada.\n",
    "        n = n + 1\n",
    "\n",
    "    path_4_orig = twist_augmented_path + '/' + image[:-4] + '0_' + '.png'    \n",
    "    cv2.imwrite(path_4_orig, original_image) # Grava a imagem que foi processada.    \n",
    "    i = i+1"
   ]
  },
  {
   "cell_type": "markdown",
   "metadata": {},
   "source": [
    "# Data augmentation passo 3 of 4: Blur.\n",
    "\n",
    "Etapa simples para desfocar as imagens geradas até então."
   ]
  },
  {
   "cell_type": "code",
   "execution_count": 101,
   "metadata": {
    "scrolled": true
   },
   "outputs": [
    {
     "data": {
      "image/png": "[encoded data removed]",
      "text/plain": [
       "<Figure size 432x288 with 1 Axes>"
      ]
     },
     "metadata": {
      "needs_background": "light"
     },
     "output_type": "display_data"
    }
   ],
   "source": [
    "# Exemplificando primeiro ruído que será aplicado à imagem: Blur (desfocando a imagem). \n",
    "\n",
    "img_y = cv2.imread('./Caracteres/06.BATCH_6/2_Twisted/G_1_2_.png')\n",
    "\n",
    "blur = cv2.GaussianBlur(img_y,(9,9),3)\n",
    "plt.imshow(blur)\n",
    "plt.show()"
   ]
  },
  {
   "cell_type": "markdown",
   "metadata": {},
   "source": [
    "### Criando função para desfocar a imagem."
   ]
  },
  {
   "cell_type": "code",
   "execution_count": 102,
   "metadata": {},
   "outputs": [],
   "source": [
    "def desfoque(image):\n",
    "    return cv2.GaussianBlur(image,(9,9),3)"
   ]
  },
  {
   "cell_type": "code",
   "execution_count": 103,
   "metadata": {},
   "outputs": [],
   "source": [
    "# Definindo caminhos para o tratamento.\n",
    "\n",
    "images_path3 = './Caracteres/06.BATCH_6/2_Twisted' # Caminho das imagens para tratamento.\n",
    "blur_augmented_path = './Caracteres/06.BATCH_6/3_Blur' # Caminho para gravação.\n",
    "images3=[] # Será utilizado para armazenar os caminhos das imagens, para log."
   ]
  },
  {
   "cell_type": "code",
   "execution_count": 104,
   "metadata": {},
   "outputs": [],
   "source": [
    "for im in os.listdir(images_path3):  # Cria um array com as imagens tratadas.\n",
    "    images3.append(os.path.join(images_path3, im))\n",
    "\n",
    "images_to_generate = len(os.listdir(images_path3)) # Mapeia a quantidade de arquivos que serão tratados.\n",
    "\n",
    "i=1\n",
    "\n",
    "while i<=images_to_generate:\n",
    "    image = os.listdir(images_path3)[i-1]\n",
    "    original_image = cv2.imread(images_path3+'/'+image, 0)\n",
    "\n",
    "    blur_transform = desfoque(original_image)\n",
    "                     \n",
    "    new_image_path = blur_augmented_path + '/' +  image[:-4] + '1' +'.png'\n",
    "        \n",
    "    cv2.imwrite(new_image_path, blur_transform) # Grava a imagem tratada.   \n",
    "\n",
    "    i = i+1"
   ]
  },
  {
   "cell_type": "markdown",
   "metadata": {},
   "source": [
    "# Data augmentation passo 4 of 4: Esqueleto.\n",
    "\n",
    "Captura o esqueleto da imagem, que será utilizado para o aprendizado da rede neural.\n",
    "Duas abordagens de 'esqueletização', para checagem."
   ]
  },
  {
   "cell_type": "code",
   "execution_count": 3,
   "metadata": {},
   "outputs": [
    {
     "data": {
      "image/png": "[encoded data removed]",
      "text/plain": [
       "<Figure size 432x288 with 1 Axes>"
      ]
     },
     "metadata": {
      "needs_background": "light"
     },
     "output_type": "display_data"
    }
   ],
   "source": [
    "# Lendo imagem teste.\n",
    "img = cv2.imread('./Caracteres/06.BATCH_6/3_Blur/QB_1_4_1.png', 0)\n",
    "plt.imshow(img, 'gray')\n",
    "plt.show()"
   ]
  },
  {
   "cell_type": "code",
   "execution_count": 2,
   "metadata": {},
   "outputs": [],
   "source": [
    "# Criando funções do esqueleto de Zhang-Suen\n",
    "\n",
    "def neighbours(image, x, y):\n",
    "    \"Return 8-neighbours of image point P1(x,y), in a clockwise order\"\n",
    "    img = image\n",
    "    x_1, y_1, x1, y1 = x-1, y-1, x+1, y+1\n",
    "    neigh = [img[x_1][y], img[x_1][y1], img[x][y1], img[x1][y1],\n",
    "             img[x1][y], img[x1][y_1], img[x][y_1], img[x_1][y_1]] \n",
    "    return neigh   \n",
    "\n",
    "def transitions(neighbours):\n",
    "    \"No. of 0,1 patterns (transitions from 0 to 1) in the ordered sequence\"\n",
    "    n = neighbours + neighbours[0:1]\n",
    "    return sum( (n1, n2) == (0, 1) for n1, n2 in zip(n, n[1:]) )\n",
    "\n",
    "def zhangSuen(image):\n",
    "    \"the Zhang-Suen Thinning Algorithm\"\n",
    "    skeleton = image.copy()  # deepcopy to protect the original image\n",
    "    skeleton = cv2.divide(skeleton, 255)\n",
    "    changing1 = changing2 = 1        #  the points to be removed (set as 0)\n",
    "    while changing1 or changing2:   #  iterates until no further changes occur in the image\n",
    "        # Step 1\n",
    "        changing1 = []\n",
    "        rows, columns = skeleton.shape               # x for rows, y for columns\n",
    "        for x in range(1, rows - 1):                     # No. of  rows\n",
    "            for y in range(1, columns - 1):            # No. of columns\n",
    "                P2, P3, P4, P5, P6, P7, P8, P9 = n = neighbours(skeleton, x, y)\n",
    "                if (skeleton[x][y] == 1     and    # Condition 0: Point P1 in the object regions \n",
    "                    2 <= sum(n) <= 6   and    # Condition 1: 2<= N(P1) <= 6\n",
    "                    transitions(n) == 1 and    # Condition 2: S(P1)=1  \n",
    "                    P2 * P4 * P6 == 0  and    # Condition 3   \n",
    "                    P4 * P6 * P8 == 0): # Condition 4\n",
    "                    changing1.append((x,y))\n",
    "        for x, y in changing1: \n",
    "            skeleton[x][y] = 0\n",
    "        # Step 2\n",
    "        changing2 = []\n",
    "        for x in range(1, rows - 1):\n",
    "            for y in range(1, columns - 1):\n",
    "                P2,P3,P4,P5,P6,P7,P8,P9 = n = neighbours(skeleton, x, y)\n",
    "                if (skeleton[x][y] == 1   and        # Condition 0\n",
    "                    2 <= sum(n) <= 6  and       # Condition 1\n",
    "                    transitions(n) == 1 and      # Condition 2\n",
    "                    P2 * P4 * P8 == 0 and       # Condition 3\n",
    "                    P2 * P6 * P8 == 0): # Condition 4\n",
    "                    changing2.append((x,y))    \n",
    "        for x, y in changing2: \n",
    "            skeleton[x][y] = 0\n",
    "\n",
    "    skeleton = cv2.multiply(skeleton, 255)\n",
    "    return skeleton\n",
    "\n",
    "def find_skeleton_morph(img, kernel):\n",
    "    skeleton = np.zeros(img.shape, np.uint8)\n",
    "    img_copy = img\n",
    "\n",
    "    iters = 0\n",
    "    while(True):\n",
    "        eroded = cv2.erode(img_copy, kernel)\n",
    "        temp = cv2.dilate(eroded, kernel)\n",
    "        temp = cv2.subtract(img_copy, temp)\n",
    "        skeleton = cv2.bitwise_or(skeleton, temp)\n",
    "        img_copy = eroded\n",
    "\n",
    "        iters += 1\n",
    "        if cv2.countNonZero(img_copy) == 0:\n",
    "            return skeleton\n",
    "\n"
   ]
  },
  {
   "cell_type": "code",
   "execution_count": 116,
   "metadata": {},
   "outputs": [
    {
     "data": {
      "image/png": "[encoded data removed]",
      "text/plain": [
       "<Figure size 432x288 with 1 Axes>"
      ]
     },
     "metadata": {
      "needs_background": "light"
     },
     "output_type": "display_data"
    }
   ],
   "source": [
    "# Exibindo exemplo do esqueleto da imagem.\n",
    "img_esq = zhangSuen(img)\n",
    "plt.imshow(img_esq, 'gray')\n",
    "plt.show()"
   ]
  },
  {
   "cell_type": "code",
   "execution_count": 117,
   "metadata": {},
   "outputs": [],
   "source": [
    "# Definindo caminhos para o tratamento da primeira abordagem (principal - Zhang Suen).\n",
    "\n",
    "images_path4 = './Caracteres/06.BATCH_6/3_Blur' # Caminho das imagens para tratamento.\n",
    "skull_augmented_path = './Caracteres/06.BATCH_6/5_train' # Caminho para gravação.\n",
    "images4=[] # Será utilizado para armazenar os caminhos das imagens, para log."
   ]
  },
  {
   "cell_type": "code",
   "execution_count": 118,
   "metadata": {},
   "outputs": [],
   "source": [
    "for im in os.listdir(images_path4):  # Cria um array com as imagens tratadas.\n",
    "    images4.append(os.path.join(images_path4,im))\n",
    "\n",
    "images_to_generate = len(os.listdir(images_path4)) # Mapeia a quantidade de arquivos que serão tratados.\n",
    "\n",
    "i=1\n",
    "\n",
    "while i<=images_to_generate:\n",
    "    image = os.listdir(images_path4)[i-1]\n",
    "    original_image = cv2.imread(images_path4+'/'+image, 0)\n",
    "\n",
    "    skull_transform = zhangSuen(original_image)\n",
    "    \n",
    "    try:\n",
    "        int(image[:1])\n",
    "        var = 'num'\n",
    "\n",
    "    except:\n",
    "        var = 'char'\n",
    "        \n",
    "    new_image_path = skull_augmented_path + '/' + var + '/' + image[:1] + '/' + image[:-4] + '-skull' +'.png'\n",
    "            \n",
    "    cv2.imwrite(new_image_path, skull_transform) # Grava a imagem tratada.\n",
    "    \n",
    "\n",
    "    i = i+1"
   ]
  }
 ],
 "metadata": {
  "kernelspec": {
   "display_name": "Python 3",
   "language": "python",
   "name": "python3"
  },
  "language_info": {
   "codemirror_mode": {
    "name": "ipython",
    "version": 3
   },
   "file_extension": ".py",
   "mimetype": "text/x-python",
   "name": "python",
   "nbconvert_exporter": "python",
   "pygments_lexer": "ipython3",
   "version": "3.7.3"
  }
 },
 "nbformat": 4,
 "nbformat_minor": 2
}
