{
 "cells": [
  {
   "cell_type": "markdown",
   "metadata": {
    "colab_type": "text",
    "id": "rYKhoPA2Zvaf"
   },
   "source": [
    "# Trabalho de conclusão de curso - Data Science com ênfase em Machine Learning\n",
    "## Alunos: Douglas Tadeu Sabatini & Jari Fernandes Nogueira Neto\n",
    "\n",
    "\n",
    "### FIB Bauru - 06/2020"
   ]
  },
  {
   "cell_type": "markdown",
   "metadata": {
    "colab": {},
    "colab_type": "code",
    "id": "doldfgNZZ-2U"
   },
   "source": [
    "### Etapa de treinamento da rede neural dedicada aos caracteres numéricos."
   ]
  },
  {
   "cell_type": "code",
   "execution_count": 2,
   "metadata": {
    "colab": {
     "base_uri": "https://localhost:8080/",
     "height": 110
    },
    "colab_type": "code",
    "executionInfo": {
     "elapsed": 2904,
     "status": "ok",
     "timestamp": 1590582729147,
     "user": {
      "displayName": "JARI NOGUEIRA",
      "photoUrl": "https://lh3.googleusercontent.com/a-/AOh14GgRKGSCD26xTXx6sFfsLUm3JSEQknFQhryblKZmLQ=s64",
      "userId": "11478176760466729345"
     },
     "user_tz": 180
    },
    "id": "50v7Id8fZvak",
    "outputId": "60d43116-77c8-4068-a4ac-f8f201bcec1a"
   },
   "outputs": [
    {
     "name": "stdout",
     "output_type": "stream",
     "text": [
      "WARNING:tensorflow:From /usr/local/lib/python3.6/dist-packages/tensorflow/python/compat/v2_compat.py:96: disable_resource_variables (from tensorflow.python.ops.variable_scope) is deprecated and will be removed in a future version.\n",
      "Instructions for updating:\n",
      "non-resource variables are not supported in the long term\n"
     ]
    },
    {
     "name": "stderr",
     "output_type": "stream",
     "text": [
      "Using TensorFlow backend.\n"
     ]
    }
   ],
   "source": [
    "# Carregando bibliotecas.\n",
    "import imutils\n",
    "\n",
    "import tensorflow as tf\n",
    "\n",
    "import tensorflow.compat.v1 as tf\n",
    "tf.disable_v2_behavior()\n",
    "\n",
    "from tensorflow.keras import datasets, layers, models\n",
    "\n",
    "import keras\n",
    "from keras.models import Sequential\n",
    "from keras.models import model_from_json\n",
    "from keras.layers.convolutional import Conv2D\n",
    "from keras.layers import Dense\n",
    "from keras.layers.convolutional import MaxPooling2D\n",
    "from keras.layers import Flatten\n",
    "from keras.layers import Dropout\n",
    "\n",
    "\n",
    "import cv2\n",
    "import matplotlib.pyplot as plt\n",
    "import os\n",
    "\n",
    "import pandas as pd\n",
    "import numpy as np\n",
    "import glob"
   ]
  },
  {
   "cell_type": "code",
   "execution_count": 0,
   "metadata": {
    "colab": {},
    "colab_type": "code",
    "id": "_75X2gM1Zva1"
   },
   "outputs": [],
   "source": [
    "# Criando lista de treino.\n",
    "\n",
    "x_treino = []\n",
    "y_treino = []\n",
    "\n",
    "# Criando dataframe para análise posterior.\n",
    "\n",
    "treino = pd.DataFrame ()\n",
    "treino[\"IMAGEM\"] = ()\n",
    "treino[\"ROTULO\"] = ()"
   ]
  },
  {
   "cell_type": "code",
   "execution_count": 0,
   "metadata": {
    "colab": {},
    "colab_type": "code",
    "id": "wQQHq4WkZvbO"
   },
   "outputs": [],
   "source": [
    "# Populando a lista x com as imagens e atribuindo o nome de sua respectiva pasta na lista y, que será o rótulo.\n",
    "# Inserindo também as informações na base final.\n",
    "\n",
    "imagens = glob.glob (\"/content/numeros/treino/num_sk/*/*.png\")\n",
    "for img in imagens:\n",
    "    imagem = cv2.imread (img, 0)\n",
    "    x_treino.append(imagem) # Agregando a imagem na lista x.\n",
    "    y_treino.append(int(img[33:34])) # Salvando rótulo na lista y.\n",
    "    treino.loc[img, 'IMAGEM'] = img[33:] # Incluindo o nome da imagem no df.\n",
    "    treino.loc[img, 'ROTULO'] = img[33:34] # Incluindo o label da imagem no df (pelo nome da pasta)."
   ]
  },
  {
   "cell_type": "code",
   "execution_count": 5,
   "metadata": {
    "colab": {
     "base_uri": "https://localhost:8080/",
     "height": 306
    },
    "colab_type": "code",
    "executionInfo": {
     "elapsed": 718,
     "status": "ok",
     "timestamp": 1590582736922,
     "user": {
      "displayName": "JARI NOGUEIRA",
      "photoUrl": "https://lh3.googleusercontent.com/a-/AOh14GgRKGSCD26xTXx6sFfsLUm3JSEQknFQhryblKZmLQ=s64",
      "userId": "11478176760466729345"
     },
     "user_tz": 180
    },
    "id": "ZmX89We_ZvbZ",
    "outputId": "e07a1b97-4dc9-4d6c-d393-8ab6559126e4"
   },
   "outputs": [
    {
     "name": "stdout",
     "output_type": "stream",
     "text": [
      "x_treino:  (100, 240, 170)\n",
      "ROTULO:  9\n"
     ]
    },
    {
     "data": {
      "image/png": "[encoded data removed]",
      "text/plain": [
       "<Figure size 432x288 with 1 Axes>"
      ]
     },
     "metadata": {
      "needs_background": "light",
      "tags": []
     },
     "output_type": "display_data"
    }
   ],
   "source": [
    "# Verificando se as imagens foram carregadas e exibindo exemplo.\n",
    "\n",
    "ref = 1\n",
    "\n",
    "print('x_treino: ', np.array(x_treino).shape) \n",
    "plt.imshow(x_treino[ref], cmap = 'gray')\n",
    "print('ROTULO: ', y_treino[ref])"
   ]
  },
  {
   "cell_type": "code",
   "execution_count": 6,
   "metadata": {
    "colab": {
     "base_uri": "https://localhost:8080/",
     "height": 206
    },
    "colab_type": "code",
    "executionInfo": {
     "elapsed": 631,
     "status": "ok",
     "timestamp": 1590582740841,
     "user": {
      "displayName": "JARI NOGUEIRA",
      "photoUrl": "https://lh3.googleusercontent.com/a-/AOh14GgRKGSCD26xTXx6sFfsLUm3JSEQknFQhryblKZmLQ=s64",
      "userId": "11478176760466729345"
     },
     "user_tz": 180
    },
    "id": "o-C81EDCZvbj",
    "outputId": "495c7866-d333-4c05-aa6e-09622f299411"
   },
   "outputs": [
    {
     "data": {
      "text/html": [
       "<div>\n",
       "<style scoped>\n",
       "    .dataframe tbody tr th:only-of-type {\n",
       "        vertical-align: middle;\n",
       "    }\n",
       "\n",
       "    .dataframe tbody tr th {\n",
       "        vertical-align: top;\n",
       "    }\n",
       "\n",
       "    .dataframe thead th {\n",
       "        text-align: right;\n",
       "    }\n",
       "</style>\n",
       "<table border=\"1\" class=\"dataframe\">\n",
       "  <thead>\n",
       "    <tr style=\"text-align: right;\">\n",
       "      <th></th>\n",
       "      <th>IMAGEM</th>\n",
       "      <th>ROTULO</th>\n",
       "    </tr>\n",
       "  </thead>\n",
       "  <tbody>\n",
       "    <tr>\n",
       "      <th>0</th>\n",
       "      <td>6B_1_1-skull.png</td>\n",
       "      <td>6</td>\n",
       "    </tr>\n",
       "    <tr>\n",
       "      <th>1</th>\n",
       "      <td>6B_2_1-skull.png</td>\n",
       "      <td>6</td>\n",
       "    </tr>\n",
       "    <tr>\n",
       "      <th>2</th>\n",
       "      <td>6B_0_1-skull.png</td>\n",
       "      <td>6</td>\n",
       "    </tr>\n",
       "    <tr>\n",
       "      <th>3</th>\n",
       "      <td>6_4_1-skull.png</td>\n",
       "      <td>6</td>\n",
       "    </tr>\n",
       "    <tr>\n",
       "      <th>4</th>\n",
       "      <td>6_3_1-skull.png</td>\n",
       "      <td>6</td>\n",
       "    </tr>\n",
       "  </tbody>\n",
       "</table>\n",
       "</div>"
      ],
      "text/plain": [
       "             IMAGEM ROTULO\n",
       "0  6B_1_1-skull.png      6\n",
       "1  6B_2_1-skull.png      6\n",
       "2  6B_0_1-skull.png      6\n",
       "3   6_4_1-skull.png      6\n",
       "4   6_3_1-skull.png      6"
      ]
     },
     "execution_count": 6,
     "metadata": {
      "tags": []
     },
     "output_type": "execute_result"
    }
   ],
   "source": [
    "# Verificando a montagem do dataframe, removendo o index (está com o caminho da pasta) e exibindo um exemplo.\n",
    "\n",
    "treino = treino.reset_index(drop=True)\n",
    "treino.head()"
   ]
  },
  {
   "cell_type": "code",
   "execution_count": 7,
   "metadata": {
    "colab": {
     "base_uri": "https://localhost:8080/",
     "height": 35
    },
    "colab_type": "code",
    "executionInfo": {
     "elapsed": 594,
     "status": "ok",
     "timestamp": 1590582742769,
     "user": {
      "displayName": "JARI NOGUEIRA",
      "photoUrl": "https://lh3.googleusercontent.com/a-/AOh14GgRKGSCD26xTXx6sFfsLUm3JSEQknFQhryblKZmLQ=s64",
      "userId": "11478176760466729345"
     },
     "user_tz": 180
    },
    "id": "U_XgS6OeZvby",
    "outputId": "827a235e-7399-44d6-9521-6a176116cb98"
   },
   "outputs": [
    {
     "data": {
      "text/plain": [
       "(100, 10)"
      ]
     },
     "execution_count": 7,
     "metadata": {
      "tags": []
     },
     "output_type": "execute_result"
    }
   ],
   "source": [
    "# Definindo o total de categorias.\n",
    "categorias = 10\n",
    "\n",
    "# Adequando labels para input da rede.\n",
    "y_treino = keras.utils.to_categorical(y_treino, categorias)\n",
    "x_treino = np.expand_dims(x_treino, -1)\n",
    "y_treino = np.asarray(y_treino)\n",
    "y_treino.shape"
   ]
  },
  {
   "cell_type": "code",
   "execution_count": 0,
   "metadata": {
    "colab": {},
    "colab_type": "code",
    "id": "rwFvjewfZvcw"
   },
   "outputs": [],
   "source": [
    "# Criando lista de teste.\n",
    "\n",
    "x_teste = []\n",
    "y_teste = []\n",
    "\n",
    "# Criando dataframe para análise posterior.\n",
    "\n",
    "teste = pd.DataFrame ()\n",
    "teste[\"IMAGEM\"] = ()\n",
    "teste[\"ROTULO\"] = ()"
   ]
  },
  {
   "cell_type": "code",
   "execution_count": 0,
   "metadata": {
    "colab": {},
    "colab_type": "code",
    "id": "pPiGRhYuZvc1"
   },
   "outputs": [],
   "source": [
    "# Populando a lista x com as imagens e atribuindo o nome de sua respectiva pasta na lista y, que será o rótulo.\n",
    "# Inserindo também as informações na base final.\n",
    "\n",
    "imagens_teste = glob.glob (\"/content/numeros/teste/num_sk*/*.png\")\n",
    "\n",
    "for imgtest in imagens_teste:\n",
    "    imagem = cv2.imread (imgtest, 0)\n",
    "    x_teste.append(imagem) # Agregando a imagem na lista x.\n",
    "    y_teste.append(int(imgtest[30:31])) # Salvando rótulo na lista y.\n",
    "    teste.loc[imgtest, 'IMAGEM'] = imgtest[30:] # Incluindo o nome da imagem no df.\n",
    "    teste.loc[imgtest, 'ROTULO'] = imgtest[30:31] # Incluindo o label da imagem no df (pelo nome da pasta)."
   ]
  },
  {
   "cell_type": "code",
   "execution_count": 10,
   "metadata": {
    "colab": {
     "base_uri": "https://localhost:8080/",
     "height": 306
    },
    "colab_type": "code",
    "executionInfo": {
     "elapsed": 564,
     "status": "ok",
     "timestamp": 1590582747441,
     "user": {
      "displayName": "JARI NOGUEIRA",
      "photoUrl": "https://lh3.googleusercontent.com/a-/AOh14GgRKGSCD26xTXx6sFfsLUm3JSEQknFQhryblKZmLQ=s64",
      "userId": "11478176760466729345"
     },
     "user_tz": 180
    },
    "id": "qjdaq9ngZvc-",
    "outputId": "f4a0be91-5a2c-4bcb-c2b7-e5d2ea1587dd"
   },
   "outputs": [
    {
     "name": "stdout",
     "output_type": "stream",
     "text": [
      "x_teste:  (124, 240, 170)\n",
      "ROTULO:  3\n"
     ]
    },
    {
     "data": {
      "image/png": "[encoded data removed]",
      "text/plain": [
       "<Figure size 432x288 with 1 Axes>"
      ]
     },
     "metadata": {
      "needs_background": "light",
      "tags": []
     },
     "output_type": "display_data"
    }
   ],
   "source": [
    "ref = 1\n",
    "\n",
    "print('x_teste: ', np.array(x_teste).shape) \n",
    "plt.imshow(x_teste[ref], cmap = 'gray')\n",
    "print('ROTULO: ', y_teste[ref])"
   ]
  },
  {
   "cell_type": "code",
   "execution_count": 16,
   "metadata": {
    "colab": {
     "base_uri": "https://localhost:8080/",
     "height": 206
    },
    "colab_type": "code",
    "executionInfo": {
     "elapsed": 555,
     "status": "ok",
     "timestamp": 1590582833937,
     "user": {
      "displayName": "JARI NOGUEIRA",
      "photoUrl": "https://lh3.googleusercontent.com/a-/AOh14GgRKGSCD26xTXx6sFfsLUm3JSEQknFQhryblKZmLQ=s64",
      "userId": "11478176760466729345"
     },
     "user_tz": 180
    },
    "id": "A0hV78U_ZvdF",
    "outputId": "a7f607b9-e587-49b8-a7da-cf699d74bd55"
   },
   "outputs": [
    {
     "data": {
      "text/html": [
       "<div>\n",
       "<style scoped>\n",
       "    .dataframe tbody tr th:only-of-type {\n",
       "        vertical-align: middle;\n",
       "    }\n",
       "\n",
       "    .dataframe tbody tr th {\n",
       "        vertical-align: top;\n",
       "    }\n",
       "\n",
       "    .dataframe thead th {\n",
       "        text-align: right;\n",
       "    }\n",
       "</style>\n",
       "<table border=\"1\" class=\"dataframe\">\n",
       "  <thead>\n",
       "    <tr style=\"text-align: right;\">\n",
       "      <th></th>\n",
       "      <th>IMAGEM</th>\n",
       "      <th>ROTULO</th>\n",
       "    </tr>\n",
       "  </thead>\n",
       "  <tbody>\n",
       "    <tr>\n",
       "      <th>0</th>\n",
       "      <td>8_DCW0886_5_8_skull_.png</td>\n",
       "      <td>8</td>\n",
       "    </tr>\n",
       "    <tr>\n",
       "      <th>1</th>\n",
       "      <td>3_FXB3837_4_3_skull_.png</td>\n",
       "      <td>3</td>\n",
       "    </tr>\n",
       "    <tr>\n",
       "      <th>2</th>\n",
       "      <td>9_DNA3249_7_9_skull_.png</td>\n",
       "      <td>9</td>\n",
       "    </tr>\n",
       "    <tr>\n",
       "      <th>3</th>\n",
       "      <td>6_FZQ6245_4_6_skull_.png</td>\n",
       "      <td>6</td>\n",
       "    </tr>\n",
       "    <tr>\n",
       "      <th>4</th>\n",
       "      <td>1_FDJ5185_5_1_skull_.png</td>\n",
       "      <td>1</td>\n",
       "    </tr>\n",
       "  </tbody>\n",
       "</table>\n",
       "</div>"
      ],
      "text/plain": [
       "                     IMAGEM ROTULO\n",
       "0  8_DCW0886_5_8_skull_.png      8\n",
       "1  3_FXB3837_4_3_skull_.png      3\n",
       "2  9_DNA3249_7_9_skull_.png      9\n",
       "3  6_FZQ6245_4_6_skull_.png      6\n",
       "4  1_FDJ5185_5_1_skull_.png      1"
      ]
     },
     "execution_count": 16,
     "metadata": {
      "tags": []
     },
     "output_type": "execute_result"
    }
   ],
   "source": [
    "# Verificando o dataframe, removendo o index (está com o caminho da pasta) e exibindo um exemplo.\n",
    "\n",
    "teste = teste.reset_index(drop=True)\n",
    "teste.head()"
   ]
  },
  {
   "cell_type": "code",
   "execution_count": 11,
   "metadata": {
    "colab": {
     "base_uri": "https://localhost:8080/",
     "height": 35
    },
    "colab_type": "code",
    "executionInfo": {
     "elapsed": 637,
     "status": "ok",
     "timestamp": 1590582749500,
     "user": {
      "displayName": "JARI NOGUEIRA",
      "photoUrl": "https://lh3.googleusercontent.com/a-/AOh14GgRKGSCD26xTXx6sFfsLUm3JSEQknFQhryblKZmLQ=s64",
      "userId": "11478176760466729345"
     },
     "user_tz": 180
    },
    "id": "mnBEjHi5ZvdL",
    "outputId": "c35137ac-d330-410c-9451-2de816ba2d12"
   },
   "outputs": [
    {
     "data": {
      "text/plain": [
       "(124, 10)"
      ]
     },
     "execution_count": 11,
     "metadata": {
      "tags": []
     },
     "output_type": "execute_result"
    }
   ],
   "source": [
    "# Repetindo processo das categorias, na base teste.\n",
    "\n",
    "y_teste = keras.utils.to_categorical(y_teste, categorias)\n",
    "x_teste = np.expand_dims(x_teste, -1)\n",
    "y_teste = np.asarray(y_teste)\n",
    "\n",
    "y_teste.shape"
   ]
  },
  {
   "cell_type": "markdown",
   "metadata": {
    "colab_type": "text",
    "id": "why-VfmObMuw"
   },
   "source": [
    "# Treinamento da Rede."
   ]
  },
  {
   "cell_type": "code",
   "execution_count": 12,
   "metadata": {
    "colab": {
     "base_uri": "https://localhost:8080/",
     "height": 92
    },
    "colab_type": "code",
    "executionInfo": {
     "elapsed": 585,
     "status": "ok",
     "timestamp": 1590582752875,
     "user": {
      "displayName": "JARI NOGUEIRA",
      "photoUrl": "https://lh3.googleusercontent.com/a-/AOh14GgRKGSCD26xTXx6sFfsLUm3JSEQknFQhryblKZmLQ=s64",
      "userId": "11478176760466729345"
     },
     "user_tz": 180
    },
    "id": "fnP7m1znZvcB",
    "outputId": "865bff99-59f1-4ef2-bba4-d1a4aaac6886",
    "scrolled": false
   },
   "outputs": [
    {
     "name": "stdout",
     "output_type": "stream",
     "text": [
      "WARNING:tensorflow:From /usr/local/lib/python3.6/dist-packages/tensorflow/python/ops/resource_variable_ops.py:1666: calling BaseResourceVariable.__init__ (from tensorflow.python.ops.resource_variable_ops) with constraint is deprecated and will be removed in a future version.\n",
      "Instructions for updating:\n",
      "If using Keras pass *_constraint arguments to layers.\n"
     ]
    }
   ],
   "source": [
    "## Criando o modelo.\n",
    "model = keras.Sequential()\n",
    "\n",
    "# Camada de convolução com ativação relu. \n",
    "# 32 filtros com tamanho 30x30\n",
    "model.add(Conv2D(32, kernel_size=(30, 30),\n",
    "                 activation = 'relu',\n",
    "                 input_shape = (240, 170, 1)))\n",
    "\n",
    "\n",
    "# 32 filtros com tamanho 30x30\n",
    "model.add(Conv2D(64, (30, 30), activation='relu'))\n",
    "\n",
    "# Camada de max-pooling, para reduzir o tamanho e capturar melhores features, com tamanho 50x50.\n",
    "model.add(MaxPooling2D(pool_size=(30, 30)))\n",
    "\n",
    "# Dropout de 25%, para ajudar no over-fitting.\n",
    "model.add(Dropout(0.25))\n",
    "\n",
    "# Camada de flatten, para reduzir as dimensões gerada pelo pooling.\n",
    "model.add(Flatten())\n",
    "\n",
    "\n",
    "# Camada fully connected.\n",
    "model.add(Dense(128, activation='relu'))\n",
    "\n",
    "# Dropout de 50% por segurança.\n",
    "model.add(Dropout(0.5))\n",
    "\n",
    "# Camada softmax para categorizar o resultado.\n",
    "model.add(Dense(10, activation='softmax')) # 10 categorias.\n"
   ]
  },
  {
   "cell_type": "code",
   "execution_count": 0,
   "metadata": {
    "colab": {},
    "colab_type": "code",
    "id": "8ss9qfXZZvcK"
   },
   "outputs": [],
   "source": [
    "# Compilando o modelo.\n",
    "model.compile(loss=keras.losses.categorical_crossentropy,\n",
    "              optimizer=keras.optimizers.Adadelta(),\n",
    "              metrics=['accuracy'])"
   ]
  },
  {
   "cell_type": "code",
   "execution_count": 14,
   "metadata": {
    "colab": {
     "base_uri": "https://localhost:8080/",
     "height": 458
    },
    "colab_type": "code",
    "executionInfo": {
     "elapsed": 576,
     "status": "ok",
     "timestamp": 1590582757344,
     "user": {
      "displayName": "JARI NOGUEIRA",
      "photoUrl": "https://lh3.googleusercontent.com/a-/AOh14GgRKGSCD26xTXx6sFfsLUm3JSEQknFQhryblKZmLQ=s64",
      "userId": "11478176760466729345"
     },
     "user_tz": 180
    },
    "id": "LQGIT-b3ZvcS",
    "outputId": "b847144d-89a1-40ae-b7d8-e942ec073a53"
   },
   "outputs": [
    {
     "name": "stdout",
     "output_type": "stream",
     "text": [
      "Model: \"sequential_1\"\n",
      "_________________________________________________________________\n",
      "Layer (type)                 Output Shape              Param #   \n",
      "=================================================================\n",
      "conv2d_1 (Conv2D)            (None, 211, 141, 32)      28832     \n",
      "_________________________________________________________________\n",
      "conv2d_2 (Conv2D)            (None, 182, 112, 64)      1843264   \n",
      "_________________________________________________________________\n",
      "max_pooling2d_1 (MaxPooling2 (None, 6, 3, 64)          0         \n",
      "_________________________________________________________________\n",
      "dropout_1 (Dropout)          (None, 6, 3, 64)          0         \n",
      "_________________________________________________________________\n",
      "flatten_1 (Flatten)          (None, 1152)              0         \n",
      "_________________________________________________________________\n",
      "dense_1 (Dense)              (None, 128)               147584    \n",
      "_________________________________________________________________\n",
      "dropout_2 (Dropout)          (None, 128)               0         \n",
      "_________________________________________________________________\n",
      "dense_2 (Dense)              (None, 10)                1290      \n",
      "=================================================================\n",
      "Total params: 2,020,970\n",
      "Trainable params: 2,020,970\n",
      "Non-trainable params: 0\n",
      "_________________________________________________________________\n"
     ]
    }
   ],
   "source": [
    "# Exibindo o resumo de nossa CNN.\n",
    "model.summary()"
   ]
  },
  {
   "cell_type": "code",
   "execution_count": 15,
   "metadata": {
    "colab": {
     "base_uri": "https://localhost:8080/",
     "height": 1000
    },
    "colab_type": "code",
    "executionInfo": {
     "elapsed": 63975,
     "status": "ok",
     "timestamp": 1590582824375,
     "user": {
      "displayName": "JARI NOGUEIRA",
      "photoUrl": "https://lh3.googleusercontent.com/a-/AOh14GgRKGSCD26xTXx6sFfsLUm3JSEQknFQhryblKZmLQ=s64",
      "userId": "11478176760466729345"
     },
     "user_tz": 180
    },
    "id": "QS408NIbZvcb",
    "outputId": "fa770b94-652f-4009-ae93-61ad69aa7c84",
    "scrolled": true
   },
   "outputs": [
    {
     "name": "stdout",
     "output_type": "stream",
     "text": [
      "Train on 100 samples, validate on 124 samples\n",
      "Epoch 1/100\n",
      "100/100 [==============================] - 14s 143ms/step - loss: 40.6074 - accuracy: 0.0700 - val_loss: 4.0921 - val_accuracy: 0.2581\n",
      "Epoch 2/100\n",
      "100/100 [==============================] - 0s 4ms/step - loss: 4.6876 - accuracy: 0.2200 - val_loss: 1.8991 - val_accuracy: 0.2661\n",
      "Epoch 3/100\n",
      "100/100 [==============================] - 0s 4ms/step - loss: 1.8330 - accuracy: 0.3900 - val_loss: 1.6221 - val_accuracy: 0.4355\n",
      "Epoch 4/100\n",
      "100/100 [==============================] - 0s 4ms/step - loss: 1.5509 - accuracy: 0.4900 - val_loss: 1.7157 - val_accuracy: 0.4435\n",
      "Epoch 5/100\n",
      "100/100 [==============================] - 0s 4ms/step - loss: 1.2750 - accuracy: 0.6400 - val_loss: 1.1223 - val_accuracy: 0.6371\n",
      "Epoch 6/100\n",
      "100/100 [==============================] - 0s 4ms/step - loss: 0.9683 - accuracy: 0.6600 - val_loss: 0.9125 - val_accuracy: 0.7823\n",
      "Epoch 7/100\n",
      "100/100 [==============================] - 0s 4ms/step - loss: 0.7560 - accuracy: 0.7500 - val_loss: 0.9021 - val_accuracy: 0.6774\n",
      "Epoch 8/100\n",
      "100/100 [==============================] - 0s 4ms/step - loss: 0.7239 - accuracy: 0.7700 - val_loss: 0.8422 - val_accuracy: 0.7097\n",
      "Epoch 9/100\n",
      "100/100 [==============================] - 0s 4ms/step - loss: 0.3896 - accuracy: 0.8600 - val_loss: 0.6893 - val_accuracy: 0.8387\n",
      "Epoch 10/100\n",
      "100/100 [==============================] - 0s 4ms/step - loss: 0.3729 - accuracy: 0.8900 - val_loss: 0.7865 - val_accuracy: 0.7258\n",
      "Epoch 11/100\n",
      "100/100 [==============================] - 0s 4ms/step - loss: 0.4750 - accuracy: 0.8500 - val_loss: 0.8111 - val_accuracy: 0.7177\n",
      "Epoch 12/100\n",
      "100/100 [==============================] - 0s 4ms/step - loss: 0.4044 - accuracy: 0.9000 - val_loss: 0.4542 - val_accuracy: 0.8871\n",
      "Epoch 13/100\n",
      "100/100 [==============================] - 0s 4ms/step - loss: 0.3632 - accuracy: 0.8600 - val_loss: 0.4897 - val_accuracy: 0.8710\n",
      "Epoch 14/100\n",
      "100/100 [==============================] - 0s 4ms/step - loss: 0.2679 - accuracy: 0.9100 - val_loss: 0.4502 - val_accuracy: 0.8952\n",
      "Epoch 15/100\n",
      "100/100 [==============================] - 0s 4ms/step - loss: 0.1684 - accuracy: 0.9400 - val_loss: 0.7161 - val_accuracy: 0.7581\n",
      "Epoch 16/100\n",
      "100/100 [==============================] - 0s 4ms/step - loss: 0.3903 - accuracy: 0.8600 - val_loss: 0.7268 - val_accuracy: 0.7419\n",
      "Epoch 17/100\n",
      "100/100 [==============================] - 0s 4ms/step - loss: 0.1845 - accuracy: 0.9400 - val_loss: 0.4778 - val_accuracy: 0.8306\n",
      "Epoch 18/100\n",
      "100/100 [==============================] - 0s 4ms/step - loss: 0.1226 - accuracy: 0.9700 - val_loss: 0.3805 - val_accuracy: 0.9032\n",
      "Epoch 19/100\n",
      "100/100 [==============================] - 0s 4ms/step - loss: 0.1579 - accuracy: 0.9500 - val_loss: 0.4977 - val_accuracy: 0.8306\n",
      "Epoch 20/100\n",
      "100/100 [==============================] - 0s 4ms/step - loss: 0.2314 - accuracy: 0.9100 - val_loss: 0.5479 - val_accuracy: 0.8468\n",
      "Epoch 21/100\n",
      "100/100 [==============================] - 0s 4ms/step - loss: 0.4232 - accuracy: 0.8800 - val_loss: 0.7437 - val_accuracy: 0.7823\n",
      "Epoch 22/100\n",
      "100/100 [==============================] - 0s 4ms/step - loss: 0.4389 - accuracy: 0.8500 - val_loss: 0.4268 - val_accuracy: 0.8629\n",
      "Epoch 23/100\n",
      "100/100 [==============================] - 0s 4ms/step - loss: 0.3113 - accuracy: 0.9000 - val_loss: 0.4612 - val_accuracy: 0.8629\n",
      "Epoch 24/100\n",
      "100/100 [==============================] - 0s 4ms/step - loss: 0.5593 - accuracy: 0.8200 - val_loss: 0.3413 - val_accuracy: 0.8952\n",
      "Epoch 25/100\n",
      "100/100 [==============================] - 0s 4ms/step - loss: 0.3898 - accuracy: 0.8800 - val_loss: 0.3869 - val_accuracy: 0.8548\n",
      "Epoch 26/100\n",
      "100/100 [==============================] - 0s 4ms/step - loss: 0.2229 - accuracy: 0.9200 - val_loss: 0.4268 - val_accuracy: 0.8548\n",
      "Epoch 27/100\n",
      "100/100 [==============================] - 0s 4ms/step - loss: 0.1402 - accuracy: 0.9500 - val_loss: 0.4204 - val_accuracy: 0.8871\n",
      "Epoch 28/100\n",
      "100/100 [==============================] - 0s 4ms/step - loss: 0.1204 - accuracy: 0.9600 - val_loss: 0.2640 - val_accuracy: 0.9435\n",
      "Epoch 29/100\n",
      "100/100 [==============================] - 0s 4ms/step - loss: 0.2827 - accuracy: 0.8900 - val_loss: 0.8874 - val_accuracy: 0.7661\n",
      "Epoch 30/100\n",
      "100/100 [==============================] - 0s 4ms/step - loss: 0.3993 - accuracy: 0.9200 - val_loss: 0.2485 - val_accuracy: 0.9274\n",
      "Epoch 31/100\n",
      "100/100 [==============================] - 0s 4ms/step - loss: 0.1855 - accuracy: 0.9500 - val_loss: 0.2593 - val_accuracy: 0.9032\n",
      "Epoch 32/100\n",
      "100/100 [==============================] - 0s 4ms/step - loss: 0.1418 - accuracy: 0.9400 - val_loss: 0.1464 - val_accuracy: 0.9597\n",
      "Epoch 33/100\n",
      "100/100 [==============================] - 0s 4ms/step - loss: 0.0407 - accuracy: 0.9900 - val_loss: 0.2396 - val_accuracy: 0.9194\n",
      "Epoch 34/100\n",
      "100/100 [==============================] - 0s 4ms/step - loss: 0.1505 - accuracy: 0.9700 - val_loss: 0.2399 - val_accuracy: 0.9194\n",
      "Epoch 35/100\n",
      "100/100 [==============================] - 0s 4ms/step - loss: 0.0786 - accuracy: 0.9600 - val_loss: 0.3155 - val_accuracy: 0.8871\n",
      "Epoch 36/100\n",
      "100/100 [==============================] - 0s 4ms/step - loss: 0.1413 - accuracy: 0.9600 - val_loss: 0.3133 - val_accuracy: 0.8952\n",
      "Epoch 37/100\n",
      "100/100 [==============================] - 0s 4ms/step - loss: 0.0793 - accuracy: 0.9700 - val_loss: 0.1870 - val_accuracy: 0.9194\n",
      "Epoch 38/100\n",
      "100/100 [==============================] - 0s 4ms/step - loss: 0.0227 - accuracy: 0.9900 - val_loss: 0.2023 - val_accuracy: 0.9194\n",
      "Epoch 39/100\n",
      "100/100 [==============================] - 0s 4ms/step - loss: 0.0445 - accuracy: 0.9800 - val_loss: 0.1648 - val_accuracy: 0.9597\n",
      "Epoch 40/100\n",
      "100/100 [==============================] - 0s 4ms/step - loss: 0.0885 - accuracy: 0.9700 - val_loss: 0.0779 - val_accuracy: 0.9919\n",
      "Epoch 41/100\n",
      "100/100 [==============================] - 0s 4ms/step - loss: 0.0285 - accuracy: 0.9900 - val_loss: 0.0954 - val_accuracy: 0.9677\n",
      "Epoch 42/100\n",
      "100/100 [==============================] - 0s 4ms/step - loss: 0.0082 - accuracy: 1.0000 - val_loss: 0.0729 - val_accuracy: 0.9839\n",
      "Epoch 43/100\n",
      "100/100 [==============================] - 0s 4ms/step - loss: 0.0867 - accuracy: 0.9600 - val_loss: 0.3685 - val_accuracy: 0.8629\n",
      "Epoch 44/100\n",
      "100/100 [==============================] - 0s 4ms/step - loss: 0.0991 - accuracy: 0.9600 - val_loss: 0.4244 - val_accuracy: 0.8952\n",
      "Epoch 45/100\n",
      "100/100 [==============================] - 0s 4ms/step - loss: 0.1271 - accuracy: 0.9500 - val_loss: 0.1015 - val_accuracy: 0.9677\n",
      "Epoch 46/100\n",
      "100/100 [==============================] - 0s 4ms/step - loss: 0.0369 - accuracy: 0.9900 - val_loss: 0.2310 - val_accuracy: 0.9032\n",
      "Epoch 47/100\n",
      "100/100 [==============================] - 0s 4ms/step - loss: 0.0160 - accuracy: 1.0000 - val_loss: 0.0402 - val_accuracy: 1.0000\n",
      "Epoch 48/100\n",
      "100/100 [==============================] - 0s 4ms/step - loss: 0.1068 - accuracy: 0.9800 - val_loss: 0.3263 - val_accuracy: 0.8710\n",
      "Epoch 49/100\n",
      "100/100 [==============================] - 0s 4ms/step - loss: 0.4753 - accuracy: 0.9100 - val_loss: 0.6280 - val_accuracy: 0.8629\n",
      "Epoch 50/100\n",
      "100/100 [==============================] - 0s 4ms/step - loss: 0.5333 - accuracy: 0.8700 - val_loss: 0.8201 - val_accuracy: 0.8065\n",
      "Epoch 51/100\n",
      "100/100 [==============================] - 0s 4ms/step - loss: 0.5872 - accuracy: 0.8800 - val_loss: 0.3896 - val_accuracy: 0.8790\n",
      "Epoch 52/100\n",
      "100/100 [==============================] - 0s 4ms/step - loss: 0.2458 - accuracy: 0.9500 - val_loss: 0.6238 - val_accuracy: 0.8226\n",
      "Epoch 53/100\n",
      "100/100 [==============================] - 0s 4ms/step - loss: 0.2190 - accuracy: 0.9600 - val_loss: 0.2705 - val_accuracy: 0.8952\n",
      "Epoch 54/100\n",
      "100/100 [==============================] - 0s 4ms/step - loss: 0.2469 - accuracy: 0.9500 - val_loss: 1.3956 - val_accuracy: 0.8226\n",
      "Epoch 55/100\n",
      "100/100 [==============================] - 0s 4ms/step - loss: 0.2696 - accuracy: 0.9300 - val_loss: 0.5181 - val_accuracy: 0.9032\n",
      "Epoch 56/100\n",
      "100/100 [==============================] - 0s 4ms/step - loss: 0.2999 - accuracy: 0.9400 - val_loss: 0.8090 - val_accuracy: 0.8226\n",
      "Epoch 57/100\n",
      "100/100 [==============================] - 0s 4ms/step - loss: 0.2479 - accuracy: 0.9300 - val_loss: 0.4424 - val_accuracy: 0.9032\n",
      "Epoch 58/100\n",
      "100/100 [==============================] - 0s 4ms/step - loss: 0.3073 - accuracy: 0.9200 - val_loss: 0.4104 - val_accuracy: 0.9113\n",
      "Epoch 59/100\n",
      "100/100 [==============================] - 0s 4ms/step - loss: 0.2036 - accuracy: 0.9700 - val_loss: 0.3023 - val_accuracy: 0.9113\n",
      "Epoch 60/100\n",
      "100/100 [==============================] - 0s 4ms/step - loss: 0.0132 - accuracy: 1.0000 - val_loss: 0.2796 - val_accuracy: 0.9113\n",
      "Epoch 61/100\n",
      "100/100 [==============================] - 0s 4ms/step - loss: 0.1260 - accuracy: 0.9800 - val_loss: 0.3845 - val_accuracy: 0.9113\n",
      "Epoch 62/100\n",
      "100/100 [==============================] - 0s 4ms/step - loss: 0.3382 - accuracy: 0.9400 - val_loss: 0.4326 - val_accuracy: 0.8629\n",
      "Epoch 63/100\n",
      "100/100 [==============================] - 0s 4ms/step - loss: 0.2354 - accuracy: 0.9500 - val_loss: 0.1880 - val_accuracy: 0.9194\n",
      "Epoch 64/100\n",
      "100/100 [==============================] - 0s 4ms/step - loss: 0.1226 - accuracy: 0.9600 - val_loss: 0.1585 - val_accuracy: 0.9355\n",
      "Epoch 65/100\n",
      "100/100 [==============================] - 0s 4ms/step - loss: 0.1737 - accuracy: 0.9400 - val_loss: 0.1358 - val_accuracy: 0.9677\n",
      "Epoch 66/100\n",
      "100/100 [==============================] - 0s 4ms/step - loss: 0.2199 - accuracy: 0.9700 - val_loss: 0.3174 - val_accuracy: 0.8952\n",
      "Epoch 67/100\n",
      "100/100 [==============================] - 0s 4ms/step - loss: 0.0662 - accuracy: 0.9600 - val_loss: 0.1351 - val_accuracy: 0.9597\n",
      "Epoch 68/100\n",
      "100/100 [==============================] - 0s 4ms/step - loss: 0.0582 - accuracy: 0.9700 - val_loss: 0.2386 - val_accuracy: 0.9435\n",
      "Epoch 69/100\n",
      "100/100 [==============================] - 0s 4ms/step - loss: 0.1067 - accuracy: 0.9500 - val_loss: 0.4576 - val_accuracy: 0.9032\n",
      "Epoch 70/100\n",
      "100/100 [==============================] - 0s 4ms/step - loss: 0.0635 - accuracy: 0.9700 - val_loss: 0.2987 - val_accuracy: 0.9274\n",
      "Epoch 71/100\n",
      "100/100 [==============================] - 0s 4ms/step - loss: 0.0406 - accuracy: 0.9800 - val_loss: 0.2035 - val_accuracy: 0.9435\n",
      "Epoch 72/100\n",
      "100/100 [==============================] - 0s 4ms/step - loss: 0.1395 - accuracy: 0.9400 - val_loss: 0.1892 - val_accuracy: 0.9516\n",
      "Epoch 73/100\n",
      "100/100 [==============================] - 0s 4ms/step - loss: 0.0195 - accuracy: 0.9900 - val_loss: 0.1694 - val_accuracy: 0.9597\n",
      "Epoch 74/100\n",
      "100/100 [==============================] - 0s 4ms/step - loss: 0.0973 - accuracy: 0.9900 - val_loss: 0.1610 - val_accuracy: 0.9435\n",
      "Epoch 75/100\n",
      "100/100 [==============================] - 0s 4ms/step - loss: 0.1334 - accuracy: 0.9500 - val_loss: 0.2439 - val_accuracy: 0.9194\n",
      "Epoch 76/100\n",
      "100/100 [==============================] - 0s 4ms/step - loss: 0.0331 - accuracy: 0.9800 - val_loss: 0.1600 - val_accuracy: 0.9516\n",
      "Epoch 77/100\n",
      "100/100 [==============================] - 0s 4ms/step - loss: 0.0772 - accuracy: 0.9500 - val_loss: 0.1786 - val_accuracy: 0.9597\n",
      "Epoch 78/100\n",
      "100/100 [==============================] - 0s 4ms/step - loss: 0.1949 - accuracy: 0.9500 - val_loss: 0.3978 - val_accuracy: 0.9113\n",
      "Epoch 79/100\n",
      "100/100 [==============================] - 0s 4ms/step - loss: 0.4211 - accuracy: 0.9300 - val_loss: 0.7379 - val_accuracy: 0.8468\n",
      "Epoch 80/100\n",
      "100/100 [==============================] - 0s 4ms/step - loss: 0.1623 - accuracy: 0.9500 - val_loss: 0.0734 - val_accuracy: 0.9758\n",
      "Epoch 81/100\n",
      "100/100 [==============================] - 0s 4ms/step - loss: 0.1475 - accuracy: 0.9600 - val_loss: 0.1142 - val_accuracy: 0.9677\n",
      "Epoch 82/100\n",
      "100/100 [==============================] - 0s 4ms/step - loss: 0.1274 - accuracy: 0.9700 - val_loss: 0.1218 - val_accuracy: 0.9597\n",
      "Epoch 83/100\n",
      "100/100 [==============================] - 0s 4ms/step - loss: 0.0119 - accuracy: 1.0000 - val_loss: 0.1386 - val_accuracy: 0.9597\n",
      "Epoch 84/100\n",
      "100/100 [==============================] - 0s 4ms/step - loss: 0.0637 - accuracy: 0.9800 - val_loss: 0.0599 - val_accuracy: 0.9758\n",
      "Epoch 85/100\n",
      "100/100 [==============================] - 0s 4ms/step - loss: 0.0600 - accuracy: 0.9800 - val_loss: 0.0447 - val_accuracy: 0.9839\n",
      "Epoch 86/100\n",
      "100/100 [==============================] - 0s 4ms/step - loss: 0.0105 - accuracy: 0.9900 - val_loss: 0.0557 - val_accuracy: 0.9839\n",
      "Epoch 87/100\n",
      "100/100 [==============================] - 0s 4ms/step - loss: 0.1398 - accuracy: 0.9800 - val_loss: 0.0802 - val_accuracy: 0.9677\n",
      "Epoch 88/100\n",
      "100/100 [==============================] - 0s 4ms/step - loss: 0.0713 - accuracy: 0.9700 - val_loss: 0.0950 - val_accuracy: 0.9677\n",
      "Epoch 89/100\n",
      "100/100 [==============================] - 0s 4ms/step - loss: 0.0974 - accuracy: 0.9900 - val_loss: 0.4136 - val_accuracy: 0.9032\n",
      "Epoch 90/100\n",
      "100/100 [==============================] - 0s 4ms/step - loss: 0.1036 - accuracy: 0.9900 - val_loss: 0.2211 - val_accuracy: 0.9435\n",
      "Epoch 91/100\n",
      "100/100 [==============================] - 0s 4ms/step - loss: 0.1477 - accuracy: 0.9600 - val_loss: 0.2107 - val_accuracy: 0.9435\n",
      "Epoch 92/100\n",
      "100/100 [==============================] - 0s 4ms/step - loss: 0.0170 - accuracy: 0.9900 - val_loss: 0.1387 - val_accuracy: 0.9677\n",
      "Epoch 93/100\n",
      "100/100 [==============================] - 0s 4ms/step - loss: 0.0605 - accuracy: 0.9800 - val_loss: 0.2300 - val_accuracy: 0.9194\n",
      "Epoch 94/100\n",
      "100/100 [==============================] - 0s 4ms/step - loss: 0.0729 - accuracy: 0.9700 - val_loss: 0.1525 - val_accuracy: 0.9516\n",
      "Epoch 95/100\n",
      "100/100 [==============================] - 0s 4ms/step - loss: 0.0161 - accuracy: 0.9900 - val_loss: 0.0655 - val_accuracy: 0.9758\n",
      "Epoch 96/100\n",
      "100/100 [==============================] - 0s 4ms/step - loss: 0.0826 - accuracy: 0.9800 - val_loss: 0.1169 - val_accuracy: 0.9435\n",
      "Epoch 97/100\n",
      "100/100 [==============================] - 0s 4ms/step - loss: 0.0564 - accuracy: 0.9900 - val_loss: 0.0844 - val_accuracy: 0.9597\n",
      "Epoch 98/100\n",
      "100/100 [==============================] - 0s 4ms/step - loss: 0.0021 - accuracy: 1.0000 - val_loss: 0.0626 - val_accuracy: 0.9677\n",
      "Epoch 99/100\n",
      "100/100 [==============================] - 0s 4ms/step - loss: 0.2822 - accuracy: 0.9500 - val_loss: 0.0875 - val_accuracy: 0.9677\n",
      "Epoch 100/100\n",
      "100/100 [==============================] - 0s 4ms/step - loss: 0.1345 - accuracy: 0.9700 - val_loss: 0.0249 - val_accuracy: 0.9919\n"
     ]
    }
   ],
   "source": [
    "# Definindo o número de épocas.\n",
    "## OBS: Utilizaremos 100% das amostras de treinamento, para validação: Batch Gradient Descent.\n",
    "\n",
    "num_epoch = 100\n",
    "\n",
    "# Treinamento do modelo.\n",
    "model_log = model.fit(x_treino, y_treino,\n",
    "          epochs=num_epoch,\n",
    "          verbose=1,\n",
    "          validation_data=(x_teste, y_teste))"
   ]
  },
  {
   "cell_type": "markdown",
   "metadata": {
    "colab_type": "text",
    "id": "DR5DQr6EZvct"
   },
   "source": [
    "## Aplicando modelo na base de testes."
   ]
  },
  {
   "cell_type": "code",
   "execution_count": 0,
   "metadata": {
    "colab": {
     "base_uri": "https://localhost:8080/",
     "height": 54
    },
    "colab_type": "code",
    "executionInfo": {
     "elapsed": 1090,
     "status": "ok",
     "timestamp": 1590100139393,
     "user": {
      "displayName": "JARI NOGUEIRA",
      "photoUrl": "https://lh3.googleusercontent.com/a-/AOh14GgRKGSCD26xTXx6sFfsLUm3JSEQknFQhryblKZmLQ=s64",
      "userId": "11478176760466729345"
     },
     "user_tz": 180
    },
    "id": "F3lFqt9jZvde",
    "outputId": "2345787c-740c-4a10-d867-f8a31920a2c6",
    "scrolled": true
   },
   "outputs": [
    {
     "name": "stdout",
     "output_type": "stream",
     "text": [
      "Test loss: 1.3302853185379604e-05\n",
      "Test accuracy: 1.0\n"
     ]
    }
   ],
   "source": [
    "# Aplicando Score na base de testes e exibindo a acurácia e loss.\n",
    "score = model.evaluate(x_teste, y_teste, verbose=0)\n",
    "print('Test loss:', score[0]) \n",
    "print('Test accuracy:', score[1]) "
   ]
  },
  {
   "cell_type": "code",
   "execution_count": 17,
   "metadata": {
    "colab": {
     "base_uri": "https://localhost:8080/",
     "height": 424
    },
    "colab_type": "code",
    "executionInfo": {
     "elapsed": 607,
     "status": "ok",
     "timestamp": 1590582841983,
     "user": {
      "displayName": "JARI NOGUEIRA",
      "photoUrl": "https://lh3.googleusercontent.com/a-/AOh14GgRKGSCD26xTXx6sFfsLUm3JSEQknFQhryblKZmLQ=s64",
      "userId": "11478176760466729345"
     },
     "user_tz": 180
    },
    "id": "obvdmsaEZvd8",
    "outputId": "21e79c53-5a5a-40da-e978-d33c185d3895"
   },
   "outputs": [
    {
     "data": {
      "text/html": [
       "<div>\n",
       "<style scoped>\n",
       "    .dataframe tbody tr th:only-of-type {\n",
       "        vertical-align: middle;\n",
       "    }\n",
       "\n",
       "    .dataframe tbody tr th {\n",
       "        vertical-align: top;\n",
       "    }\n",
       "\n",
       "    .dataframe thead th {\n",
       "        text-align: right;\n",
       "    }\n",
       "</style>\n",
       "<table border=\"1\" class=\"dataframe\">\n",
       "  <thead>\n",
       "    <tr style=\"text-align: right;\">\n",
       "      <th></th>\n",
       "      <th>IMAGEM</th>\n",
       "      <th>ROTULO</th>\n",
       "      <th>PREDICT</th>\n",
       "      <th>ERROR</th>\n",
       "    </tr>\n",
       "  </thead>\n",
       "  <tbody>\n",
       "    <tr>\n",
       "      <th>39</th>\n",
       "      <td>0_DCW0886_4_0_skull_.png</td>\n",
       "      <td>0</td>\n",
       "      <td>0</td>\n",
       "      <td>0</td>\n",
       "    </tr>\n",
       "    <tr>\n",
       "      <th>114</th>\n",
       "      <td>0_DMQ0681_4_0_skull_.png</td>\n",
       "      <td>0</td>\n",
       "      <td>0</td>\n",
       "      <td>0</td>\n",
       "    </tr>\n",
       "    <tr>\n",
       "      <th>120</th>\n",
       "      <td>0_EBV7055_5_0_skull_.png</td>\n",
       "      <td>0</td>\n",
       "      <td>0</td>\n",
       "      <td>0</td>\n",
       "    </tr>\n",
       "    <tr>\n",
       "      <th>18</th>\n",
       "      <td>0_FHL0898_4_0_skull_.png</td>\n",
       "      <td>0</td>\n",
       "      <td>0</td>\n",
       "      <td>0</td>\n",
       "    </tr>\n",
       "    <tr>\n",
       "      <th>65</th>\n",
       "      <td>0_FKR3470_7_0_skull_.png</td>\n",
       "      <td>0</td>\n",
       "      <td>0</td>\n",
       "      <td>0</td>\n",
       "    </tr>\n",
       "    <tr>\n",
       "      <th>...</th>\n",
       "      <td>...</td>\n",
       "      <td>...</td>\n",
       "      <td>...</td>\n",
       "      <td>...</td>\n",
       "    </tr>\n",
       "    <tr>\n",
       "      <th>101</th>\n",
       "      <td>9_FSW2949_5_9_skull_.png</td>\n",
       "      <td>9</td>\n",
       "      <td>9</td>\n",
       "      <td>0</td>\n",
       "    </tr>\n",
       "    <tr>\n",
       "      <th>63</th>\n",
       "      <td>9_FSW2949_7_9_skull_.png</td>\n",
       "      <td>9</td>\n",
       "      <td>9</td>\n",
       "      <td>0</td>\n",
       "    </tr>\n",
       "    <tr>\n",
       "      <th>15</th>\n",
       "      <td>9_FTU5739_7_9_skull_.png</td>\n",
       "      <td>9</td>\n",
       "      <td>9</td>\n",
       "      <td>0</td>\n",
       "    </tr>\n",
       "    <tr>\n",
       "      <th>44</th>\n",
       "      <td>9_FXZ3369_7_9_skull_.png</td>\n",
       "      <td>9</td>\n",
       "      <td>9</td>\n",
       "      <td>0</td>\n",
       "    </tr>\n",
       "    <tr>\n",
       "      <th>73</th>\n",
       "      <td>9_FZY1923_5_9_skull_.png</td>\n",
       "      <td>9</td>\n",
       "      <td>9</td>\n",
       "      <td>0</td>\n",
       "    </tr>\n",
       "  </tbody>\n",
       "</table>\n",
       "<p>124 rows × 4 columns</p>\n",
       "</div>"
      ],
      "text/plain": [
       "                       IMAGEM  ROTULO  PREDICT  ERROR\n",
       "39   0_DCW0886_4_0_skull_.png       0        0      0\n",
       "114  0_DMQ0681_4_0_skull_.png       0        0      0\n",
       "120  0_EBV7055_5_0_skull_.png       0        0      0\n",
       "18   0_FHL0898_4_0_skull_.png       0        0      0\n",
       "65   0_FKR3470_7_0_skull_.png       0        0      0\n",
       "..                        ...     ...      ...    ...\n",
       "101  9_FSW2949_5_9_skull_.png       9        9      0\n",
       "63   9_FSW2949_7_9_skull_.png       9        9      0\n",
       "15   9_FTU5739_7_9_skull_.png       9        9      0\n",
       "44   9_FXZ3369_7_9_skull_.png       9        9      0\n",
       "73   9_FZY1923_5_9_skull_.png       9        9      0\n",
       "\n",
       "[124 rows x 4 columns]"
      ]
     },
     "execution_count": 17,
     "metadata": {
      "tags": []
     },
     "output_type": "execute_result"
    }
   ],
   "source": [
    "# Adicionando resultado e criando coluna para filtro de erros.\n",
    "y_prob = model.predict(x_teste) \n",
    "y_classes = y_prob.argmax(axis=-1)\n",
    "\n",
    "teste['PREDICT'] = y_classes\n",
    "\n",
    "teste = teste.astype({'ROTULO': 'int64'}) # Ajustando tipo do dado, para comparação.\n",
    "teste['ERROR'] = np.where((teste['ROTULO'] == teste['PREDICT']) , 0, 1)\n",
    "teste = teste.sort_values('IMAGEM')\n",
    "\n",
    "teste"
   ]
  },
  {
   "cell_type": "markdown",
   "metadata": {
    "colab_type": "text",
    "id": "QKBLh-7UZveZ"
   },
   "source": [
    "# Gravando e carregando o modelo treinado."
   ]
  },
  {
   "cell_type": "code",
   "execution_count": 0,
   "metadata": {
    "colab": {
     "base_uri": "https://localhost:8080/",
     "height": 35
    },
    "colab_type": "code",
    "executionInfo": {
     "elapsed": 1127,
     "status": "ok",
     "timestamp": 1590100197820,
     "user": {
      "displayName": "JARI NOGUEIRA",
      "photoUrl": "https://lh3.googleusercontent.com/a-/AOh14GgRKGSCD26xTXx6sFfsLUm3JSEQknFQhryblKZmLQ=s64",
      "userId": "11478176760466729345"
     },
     "user_tz": 180
    },
    "id": "EeKFHIK9Zvea",
    "outputId": "3d81154b-e9db-4333-e3cb-87a123ca738b"
   },
   "outputs": [
    {
     "name": "stdout",
     "output_type": "stream",
     "text": [
      "Modelo gravado na pasta de códigos.\n"
     ]
    }
   ],
   "source": [
    "# Salvando o modelo treinado.\n",
    "\n",
    "# Criando Json com o modelo.\n",
    "model_json = model.to_json()\n",
    "with open(\"/content/model_num_100-1.json\", \"w\") as json_file:\n",
    "    json_file.write(model_json)\n",
    "    \n",
    "# Gravando pesos do modelo em HDF5 - Hierarchical Data Format.\n",
    "model.save_weights(\"/content/model_num_100-1.h5\")\n",
    "print(\"Modelo gravado na pasta de códigos.\")"
   ]
  },
  {
   "cell_type": "markdown",
   "metadata": {},
   "source": [
    "## Plotando resultados."
   ]
  },
  {
   "cell_type": "code",
   "execution_count": 19,
   "metadata": {
    "colab": {
     "base_uri": "https://localhost:8080/",
     "height": 195
    },
    "colab_type": "code",
    "executionInfo": {
     "elapsed": 695,
     "status": "ok",
     "timestamp": 1590582857241,
     "user": {
      "displayName": "JARI NOGUEIRA",
      "photoUrl": "https://lh3.googleusercontent.com/a-/AOh14GgRKGSCD26xTXx6sFfsLUm3JSEQknFQhryblKZmLQ=s64",
      "userId": "11478176760466729345"
     },
     "user_tz": 180
    },
    "id": "Jkx8z6S1Zver",
    "outputId": "cd421158-96ef-4d4d-dc5f-2a22d18fa8a3"
   },
   "outputs": [
    {
     "data": {
      "text/plain": [
       "Text(0.5, 0, 'epoch')"
      ]
     },
     "execution_count": 19,
     "metadata": {
      "tags": []
     },
     "output_type": "execute_result"
    },
    {
     "data": {
      "image/png": "[encoded data removed]",
      "text/plain": [
       "<Figure size 432x288 with 1 Axes>"
      ]
     },
     "metadata": {
      "needs_background": "light",
      "tags": []
     },
     "output_type": "display_data"
    }
   ],
   "source": [
    "fig = plt.figure()\n",
    "plt.subplot(2,1,1)\n",
    "plt.plot(model_log.history['accuracy'])\n",
    "plt.plot(model_log.history['val_accuracy'])\n",
    "plt.title('model accuracy')\n",
    "plt.ylabel('accuracy')\n",
    "plt.xlabel('epoch')\n",
    "\n"
   ]
  },
  {
   "cell_type": "code",
   "execution_count": 20,
   "metadata": {
    "colab": {
     "base_uri": "https://localhost:8080/",
     "height": 342
    },
    "colab_type": "code",
    "executionInfo": {
     "elapsed": 958,
     "status": "ok",
     "timestamp": 1590582861474,
     "user": {
      "displayName": "JARI NOGUEIRA",
      "photoUrl": "https://lh3.googleusercontent.com/a-/AOh14GgRKGSCD26xTXx6sFfsLUm3JSEQknFQhryblKZmLQ=s64",
      "userId": "11478176760466729345"
     },
     "user_tz": 180
    },
    "id": "9zlEztlJZve1",
    "outputId": "dc961be0-8087-4490-be64-0f7e060241db"
   },
   "outputs": [
    {
     "data": {
      "image/png": "[encoded data removed]",
      "text/plain": [
       "<Figure size 432x288 with 1 Axes>"
      ]
     },
     "execution_count": 20,
     "metadata": {
      "tags": []
     },
     "output_type": "execute_result"
    },
    {
     "data": {
      "image/png": "[encoded data removed]",
      "text/plain": [
       "<Figure size 432x288 with 1 Axes>"
      ]
     },
     "metadata": {
      "needs_background": "light",
      "tags": []
     },
     "output_type": "display_data"
    }
   ],
   "source": [
    "plt.legend(['train', 'test'], loc='lower right')\n",
    "plt.subplot(2,1,2)\n",
    "plt.plot(model_log.history['loss'])\n",
    "plt.plot(model_log.history['val_loss'])\n",
    "plt.title('model loss')\n",
    "plt.ylabel('loss')\n",
    "plt.xlabel('epoch')\n",
    "plt.legend(['train', 'test'], loc='upper right')\n",
    "plt.tight_layout()\n",
    "fig"
   ]
  }
 ],
 "metadata": {
  "accelerator": "GPU",
  "colab": {
   "collapsed_sections": [],
   "name": "2.1_CNN_num_Plate-recognition.ipynb",
   "provenance": [],
   "toc_visible": true
  },
  "kernelspec": {
   "display_name": "Python 3",
   "language": "python",
   "name": "python3"
  },
  "language_info": {
   "codemirror_mode": {
    "name": "ipython",
    "version": 3
   },
   "file_extension": ".py",
   "mimetype": "text/x-python",
   "name": "python",
   "nbconvert_exporter": "python",
   "pygments_lexer": "ipython3",
   "version": "3.7.3"
  }
 },
 "nbformat": 4,
 "nbformat_minor": 1
}
