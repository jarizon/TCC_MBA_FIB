{
 "cells": [
  {
   "cell_type": "markdown",
   "metadata": {
    "colab_type": "text",
    "id": "CkbWURgTfLcN"
   },
   "source": [
    "# Trabalho de conclusão de curso - Data Science com ênfase em Machine Learning\n",
    "## Alunos: Douglas Tadeu Sabatini & Jari Fernandes Nogueira Neto\n",
    "\n",
    "\n",
    "### FIB Bauru - 06/2020"
   ]
  },
  {
   "cell_type": "markdown",
   "metadata": {
    "colab": {},
    "colab_type": "code",
    "id": "0083GCe8i98f"
   },
   "source": [
    "### Etapa de treinamento da rede neural dedicada aos caracteres de letras."
   ]
  },
  {
   "cell_type": "code",
   "execution_count": 1,
   "metadata": {
    "colab": {
     "base_uri": "https://localhost:8080/",
     "height": 34
    },
    "colab_type": "code",
    "executionInfo": {
     "elapsed": 3843,
     "status": "ok",
     "timestamp": 1591647211807,
     "user": {
      "displayName": "JARI NOGUEIRA",
      "photoUrl": "https://lh3.googleusercontent.com/a-/AOh14GgRKGSCD26xTXx6sFfsLUm3JSEQknFQhryblKZmLQ=s64",
      "userId": "11478176760466729345"
     },
     "user_tz": 180
    },
    "id": "M9Zpr2jAfLcR",
    "outputId": "438efa3a-af01-4c5e-fb83-f401a6e38b22"
   },
   "outputs": [
    {
     "name": "stderr",
     "output_type": "stream",
     "text": [
      "Using TensorFlow backend.\n"
     ]
    }
   ],
   "source": [
    "# Carregando bibliotecas.\n",
    "import imutils\n",
    "\n",
    "import tensorflow as tf\n",
    "from tensorflow.keras import layers, models\n",
    "\n",
    "import keras\n",
    "from keras.models import Sequential\n",
    "from keras.models import model_from_json\n",
    "from keras.layers.convolutional import Conv2D\n",
    "from keras.layers import Dense\n",
    "from keras.layers.convolutional import MaxPooling2D\n",
    "from keras.layers import Flatten\n",
    "from keras.layers import Dropout\n",
    "\n",
    "import cv2\n",
    "import matplotlib.pyplot as plt\n",
    "import os\n",
    "\n",
    "import pandas as pd\n",
    "import numpy as np\n",
    "import glob\n",
    "\n",
    "#os.chdir('/home/jarineto/Documentos/MBA_FIB/TCC')"
   ]
  },
  {
   "cell_type": "code",
   "execution_count": 0,
   "metadata": {
    "colab": {},
    "colab_type": "code",
    "id": "vwJfjMlxfLcj"
   },
   "outputs": [],
   "source": [
    "# Criando lista de treino.\n",
    "\n",
    "x_treino = []\n",
    "y_treino = []\n",
    "\n",
    "# Criando dataframe para análise posterior.\n",
    "\n",
    "treino = pd.DataFrame ()\n",
    "treino[\"IMAGEM\"] = ()\n",
    "treino[\"ROTULO\"] = ()"
   ]
  },
  {
   "cell_type": "code",
   "execution_count": 0,
   "metadata": {
    "colab": {},
    "colab_type": "code",
    "id": "tPisubkIfLcy"
   },
   "outputs": [],
   "source": [
    "# Populando a lista x com as imagens e atribuindo o nome de sua respectiva pasta na lista y, que será o rótulo.\n",
    "# Inserindo também as informações na base final.\n",
    "\n",
    "imagens = glob.glob (\"/content/train_s/*/*.png\")\n",
    "for img in imagens:\n",
    "    imagem = cv2.imread (img, 0)\n",
    "    x_treino.append(imagem) # Agregando a imagem na lista x.\n",
    "    y_treino.append(img[19:20]) # Salvando rótulo na lista y.\n",
    "    treino.loc[img, 'IMAGEM'] = img[19:] # Incluindo o nome da imagem no df.\n",
    "    treino.loc[img, 'ROTULO'] = img[19:20] # Incluindo o label da imagem no df (pelo nome da pasta)."
   ]
  },
  {
   "cell_type": "code",
   "execution_count": 0,
   "metadata": {
    "colab": {
     "base_uri": "https://localhost:8080/",
     "height": 306
    },
    "colab_type": "code",
    "executionInfo": {
     "elapsed": 6373,
     "status": "ok",
     "timestamp": 1590261197564,
     "user": {
      "displayName": "JARI NOGUEIRA",
      "photoUrl": "https://lh3.googleusercontent.com/a-/AOh14GgRKGSCD26xTXx6sFfsLUm3JSEQknFQhryblKZmLQ=s64",
      "userId": "11478176760466729345"
     },
     "user_tz": 180
    },
    "id": "y-YAHNJ8fLc9",
    "outputId": "1cc6c54b-0480-4017-8053-b0ed16c438e1"
   },
   "outputs": [
    {
     "name": "stdout",
     "output_type": "stream",
     "text": [
      "x_treino:  (1820, 240, 170)\n",
      "ROTULO:  B\n"
     ]
    },
    {
     "data": {
      "image/png": "[encoded data removed]",
      "text/plain": [
       "<Figure size 432x288 with 1 Axes>"
      ]
     },
     "metadata": {
      "needs_background": "light",
      "tags": []
     },
     "output_type": "display_data"
    }
   ],
   "source": [
    "# Verificando se as imagens foram carregadas e exibindo exemplo.\n",
    "\n",
    "ref = 1\n",
    "\n",
    "print('x_treino: ', np.array(x_treino).shape) \n",
    "plt.imshow(x_treino[ref], cmap = 'gray')\n",
    "print('ROTULO: ', y_treino[ref])"
   ]
  },
  {
   "cell_type": "code",
   "execution_count": 0,
   "metadata": {
    "colab": {},
    "colab_type": "code",
    "id": "410qficYfLdS"
   },
   "outputs": [],
   "source": [
    "# Criando dicionário para categorizar numéricamente os rótulos.\n",
    "dic_cn = {'A': 0, 'B': 1, 'C': 2, 'D': 3, 'E': 4, 'F': 5, 'G': 6, 'H': 7, 'I': 8, 'J': 9, \n",
    "       'K': 10, 'L': 11, 'M': 12, 'N': 13, 'O': 14, 'P': 15, 'Q': 16, 'R': 17, 'S': 18, \n",
    "       'T': 19, 'U': 20, 'V': 21, 'W': 22, 'X': 23, 'Y': 24, 'Z': 25}\n",
    "\n",
    "# Criando dicionário para retornar as categorias numéricas para os rótulos reais.\n",
    "dic_nc = {0: 'A', 1: 'B', 2: 'C', 3: 'D', 4: 'E', 5: 'F', 6: 'G', 7: 'H', 8: 'I', 9: 'J', \n",
    "          10: 'K', 11: 'L', 12: 'M', 13: 'N', 14: 'O', 15: 'P', 16: 'Q', 17: 'R', 18: 'S', \n",
    "          19: 'T', 20: 'U', 21: 'V', 22: 'W', 23: 'X', 24: 'Y', 25: 'Z'}"
   ]
  },
  {
   "cell_type": "code",
   "execution_count": 0,
   "metadata": {
    "colab": {
     "base_uri": "https://localhost:8080/",
     "height": 424
    },
    "colab_type": "code",
    "executionInfo": {
     "elapsed": 659,
     "status": "ok",
     "timestamp": 1590261200450,
     "user": {
      "displayName": "JARI NOGUEIRA",
      "photoUrl": "https://lh3.googleusercontent.com/a-/AOh14GgRKGSCD26xTXx6sFfsLUm3JSEQknFQhryblKZmLQ=s64",
      "userId": "11478176760466729345"
     },
     "user_tz": 180
    },
    "id": "cCNqZryMfLdH",
    "outputId": "36d5204e-1ff6-4039-db85-f6bce111e793"
   },
   "outputs": [
    {
     "data": {
      "text/html": [
       "<div>\n",
       "<style scoped>\n",
       "    .dataframe tbody tr th:only-of-type {\n",
       "        vertical-align: middle;\n",
       "    }\n",
       "\n",
       "    .dataframe tbody tr th {\n",
       "        vertical-align: top;\n",
       "    }\n",
       "\n",
       "    .dataframe thead th {\n",
       "        text-align: right;\n",
       "    }\n",
       "</style>\n",
       "<table border=\"1\" class=\"dataframe\">\n",
       "  <thead>\n",
       "    <tr style=\"text-align: right;\">\n",
       "      <th></th>\n",
       "      <th>IMAGEM</th>\n",
       "      <th>ROTULO</th>\n",
       "      <th>ROTULO_INDEX</th>\n",
       "    </tr>\n",
       "  </thead>\n",
       "  <tbody>\n",
       "    <tr>\n",
       "      <th>0</th>\n",
       "      <td>BB_3_1_1-skull.png</td>\n",
       "      <td>B</td>\n",
       "      <td>1</td>\n",
       "    </tr>\n",
       "    <tr>\n",
       "      <th>1</th>\n",
       "      <td>B_6_3_1-skull.png</td>\n",
       "      <td>B</td>\n",
       "      <td>1</td>\n",
       "    </tr>\n",
       "    <tr>\n",
       "      <th>2</th>\n",
       "      <td>B_4_3_1-skull.png</td>\n",
       "      <td>B</td>\n",
       "      <td>1</td>\n",
       "    </tr>\n",
       "    <tr>\n",
       "      <th>3</th>\n",
       "      <td>BB_2_1_1-skull.png</td>\n",
       "      <td>B</td>\n",
       "      <td>1</td>\n",
       "    </tr>\n",
       "    <tr>\n",
       "      <th>4</th>\n",
       "      <td>BB_6_2_1-skull.png</td>\n",
       "      <td>B</td>\n",
       "      <td>1</td>\n",
       "    </tr>\n",
       "    <tr>\n",
       "      <th>...</th>\n",
       "      <td>...</td>\n",
       "      <td>...</td>\n",
       "      <td>...</td>\n",
       "    </tr>\n",
       "    <tr>\n",
       "      <th>1815</th>\n",
       "      <td>M_3_1_1-skull.png</td>\n",
       "      <td>M</td>\n",
       "      <td>12</td>\n",
       "    </tr>\n",
       "    <tr>\n",
       "      <th>1816</th>\n",
       "      <td>MB_3_1_1-skull.png</td>\n",
       "      <td>M</td>\n",
       "      <td>12</td>\n",
       "    </tr>\n",
       "    <tr>\n",
       "      <th>1817</th>\n",
       "      <td>MB_3_0_1-skull.png</td>\n",
       "      <td>M</td>\n",
       "      <td>12</td>\n",
       "    </tr>\n",
       "    <tr>\n",
       "      <th>1818</th>\n",
       "      <td>MB_1_2_1-skull.png</td>\n",
       "      <td>M</td>\n",
       "      <td>12</td>\n",
       "    </tr>\n",
       "    <tr>\n",
       "      <th>1819</th>\n",
       "      <td>M_6_2_1-skull.png</td>\n",
       "      <td>M</td>\n",
       "      <td>12</td>\n",
       "    </tr>\n",
       "  </tbody>\n",
       "</table>\n",
       "<p>1820 rows × 3 columns</p>\n",
       "</div>"
      ],
      "text/plain": [
       "                  IMAGEM ROTULO  ROTULO_INDEX\n",
       "0     BB_3_1_1-skull.png      B             1\n",
       "1      B_6_3_1-skull.png      B             1\n",
       "2      B_4_3_1-skull.png      B             1\n",
       "3     BB_2_1_1-skull.png      B             1\n",
       "4     BB_6_2_1-skull.png      B             1\n",
       "...                  ...    ...           ...\n",
       "1815   M_3_1_1-skull.png      M            12\n",
       "1816  MB_3_1_1-skull.png      M            12\n",
       "1817  MB_3_0_1-skull.png      M            12\n",
       "1818  MB_1_2_1-skull.png      M            12\n",
       "1819   M_6_2_1-skull.png      M            12\n",
       "\n",
       "[1820 rows x 3 columns]"
      ]
     },
     "execution_count": 50,
     "metadata": {
      "tags": []
     },
     "output_type": "execute_result"
    }
   ],
   "source": [
    "# Verificando dataframe, removendo o index (está com o caminho da pasta) e exibindo um exemplo.\n",
    "\n",
    "treino = treino.reset_index(drop=True)\n",
    "treino['ROTULO_INDEX'] = treino['ROTULO']\n",
    "treino = treino.replace({'ROTULO_INDEX': dic_cn})\n",
    "\n",
    "treino"
   ]
  },
  {
   "cell_type": "code",
   "execution_count": 0,
   "metadata": {
    "colab": {},
    "colab_type": "code",
    "id": "mQBhAaM7fLdc"
   },
   "outputs": [],
   "source": [
    "# Iterando para substituir valores na lista dos rótulos (input da CNN).\n",
    "lista = len(y_treino)\n",
    "\n",
    "temp = []\n",
    "i = 0\n",
    "    \n",
    "for i in range(lista):\n",
    "    y = dic_cn[y_treino[i]]\n",
    "    temp.append(y)\n",
    "\n",
    "y_treino = temp"
   ]
  },
  {
   "cell_type": "code",
   "execution_count": 0,
   "metadata": {
    "colab": {},
    "colab_type": "code",
    "id": "6XWrvw3JfLeg"
   },
   "outputs": [],
   "source": [
    "# Criando lista de teste.\n",
    "\n",
    "x_teste = []\n",
    "y_teste = []\n",
    "\n",
    "# Criando dataframe para análise posterior.\n",
    "\n",
    "teste = pd.DataFrame ()\n",
    "teste[\"IMAGEM\"] = ()\n",
    "teste[\"ROTULO\"] = ()"
   ]
  },
  {
   "cell_type": "code",
   "execution_count": 0,
   "metadata": {
    "colab": {},
    "colab_type": "code",
    "id": "lkLOoDryfLeo"
   },
   "outputs": [],
   "source": [
    "# Populando a lista x com as imagens e atribuindo o nome de sua respectiva pasta na lista y, que será o rótulo.\n",
    "# Inserindo também as informações na base final.\n",
    "\n",
    "imagens_teste = glob.glob (\"/content/test_s*/*.png\")\n",
    "\n",
    "for imgtest in imagens_teste:\n",
    "    imagem = cv2.imread (imgtest, 0)\n",
    "    x_teste.append(imagem) # Agregando a imagem na lista x.\n",
    "    y_teste.append(imgtest[16:17]) # Salvando rótulo na lista y.\n",
    "    teste.loc[imgtest, 'IMAGEM'] = imgtest[16:] # Incluindo o nome da imagem no df.\n",
    "    teste.loc[imgtest, 'ROTULO'] = imgtest[16:17] # Incluindo o label da imagem no df (pelo nome da pasta)."
   ]
  },
  {
   "cell_type": "code",
   "execution_count": 0,
   "metadata": {
    "colab": {
     "base_uri": "https://localhost:8080/",
     "height": 306
    },
    "colab_type": "code",
    "executionInfo": {
     "elapsed": 844,
     "status": "ok",
     "timestamp": 1590261205303,
     "user": {
      "displayName": "JARI NOGUEIRA",
      "photoUrl": "https://lh3.googleusercontent.com/a-/AOh14GgRKGSCD26xTXx6sFfsLUm3JSEQknFQhryblKZmLQ=s64",
      "userId": "11478176760466729345"
     },
     "user_tz": 180
    },
    "id": "3dwTRe0LfLev",
    "outputId": "897ece8b-89cc-4397-bc3d-374e4b408426"
   },
   "outputs": [
    {
     "name": "stdout",
     "output_type": "stream",
     "text": [
      "x_teste:  (93, 240, 170)\n",
      "ROTULO:  F\n"
     ]
    },
    {
     "data": {
      "image/png": "[encoded data removed]",
      "text/plain": [
       "<Figure size 432x288 with 1 Axes>"
      ]
     },
     "metadata": {
      "needs_background": "light",
      "tags": []
     },
     "output_type": "display_data"
    }
   ],
   "source": [
    "# Verificando se as imagens foram carregadas e exibindo exemplo.\n",
    "\n",
    "ref = 1\n",
    "\n",
    "print('x_teste: ', np.array(x_teste).shape) \n",
    "plt.imshow(x_teste[ref], cmap = 'gray')\n",
    "print('ROTULO: ', y_teste[ref])"
   ]
  },
  {
   "cell_type": "code",
   "execution_count": 0,
   "metadata": {
    "colab": {
     "base_uri": "https://localhost:8080/",
     "height": 206
    },
    "colab_type": "code",
    "executionInfo": {
     "elapsed": 644,
     "status": "ok",
     "timestamp": 1590261206618,
     "user": {
      "displayName": "JARI NOGUEIRA",
      "photoUrl": "https://lh3.googleusercontent.com/a-/AOh14GgRKGSCD26xTXx6sFfsLUm3JSEQknFQhryblKZmLQ=s64",
      "userId": "11478176760466729345"
     },
     "user_tz": 180
    },
    "id": "GOFRZZmrfLe0",
    "outputId": "5805dae2-bd81-4c4d-da24-51b1dea62e81"
   },
   "outputs": [
    {
     "data": {
      "text/html": [
       "<div>\n",
       "<style scoped>\n",
       "    .dataframe tbody tr th:only-of-type {\n",
       "        vertical-align: middle;\n",
       "    }\n",
       "\n",
       "    .dataframe tbody tr th {\n",
       "        vertical-align: top;\n",
       "    }\n",
       "\n",
       "    .dataframe thead th {\n",
       "        text-align: right;\n",
       "    }\n",
       "</style>\n",
       "<table border=\"1\" class=\"dataframe\">\n",
       "  <thead>\n",
       "    <tr style=\"text-align: right;\">\n",
       "      <th></th>\n",
       "      <th>IMAGEM</th>\n",
       "      <th>ROTULO</th>\n",
       "      <th>ROTULO_INDEX</th>\n",
       "    </tr>\n",
       "  </thead>\n",
       "  <tbody>\n",
       "    <tr>\n",
       "      <th>0</th>\n",
       "      <td>F_FMT4659_1_F_skull_.png</td>\n",
       "      <td>F</td>\n",
       "      <td>5</td>\n",
       "    </tr>\n",
       "    <tr>\n",
       "      <th>1</th>\n",
       "      <td>F_FNS7995_1_F_skull_.png</td>\n",
       "      <td>F</td>\n",
       "      <td>5</td>\n",
       "    </tr>\n",
       "    <tr>\n",
       "      <th>2</th>\n",
       "      <td>L_FHL0898_3_L_skull_.png</td>\n",
       "      <td>L</td>\n",
       "      <td>11</td>\n",
       "    </tr>\n",
       "    <tr>\n",
       "      <th>3</th>\n",
       "      <td>F_FXZ3369_1_F_skull_.png</td>\n",
       "      <td>F</td>\n",
       "      <td>5</td>\n",
       "    </tr>\n",
       "    <tr>\n",
       "      <th>4</th>\n",
       "      <td>C_DCW0886_2_C_skull_.png</td>\n",
       "      <td>C</td>\n",
       "      <td>2</td>\n",
       "    </tr>\n",
       "  </tbody>\n",
       "</table>\n",
       "</div>"
      ],
      "text/plain": [
       "                     IMAGEM ROTULO  ROTULO_INDEX\n",
       "0  F_FMT4659_1_F_skull_.png      F             5\n",
       "1  F_FNS7995_1_F_skull_.png      F             5\n",
       "2  L_FHL0898_3_L_skull_.png      L            11\n",
       "3  F_FXZ3369_1_F_skull_.png      F             5\n",
       "4  C_DCW0886_2_C_skull_.png      C             2"
      ]
     },
     "execution_count": 55,
     "metadata": {
      "tags": []
     },
     "output_type": "execute_result"
    }
   ],
   "source": [
    "# Verificando a montagem do dataframe, removendo o index (está com o caminho da pasta) e exibindo um exemplo.\n",
    "\n",
    "teste = teste.reset_index(drop=True)\n",
    "teste['ROTULO_INDEX'] = teste['ROTULO']\n",
    "teste = teste.replace({'ROTULO_INDEX': dic_cn})\n",
    "teste.head()"
   ]
  },
  {
   "cell_type": "code",
   "execution_count": 0,
   "metadata": {
    "colab": {},
    "colab_type": "code",
    "id": "HXc88qXyfLfA"
   },
   "outputs": [],
   "source": [
    "# Iterando para substituir valores na lista dos rótulos (input da CNN) - Base teste.\n",
    "lista2 = len(y_teste)\n",
    "\n",
    "temp = []\n",
    "i = 0\n",
    "    \n",
    "for i in range(lista2):\n",
    "    y = dic_cn[y_teste[i]]\n",
    "    temp.append(y)\n",
    "\n",
    "y_teste = temp"
   ]
  },
  {
   "cell_type": "markdown",
   "metadata": {
    "colab_type": "text",
    "id": "klUwK1GvX3hW"
   },
   "source": [
    "# Criando arquitetura da rede e treinando o modelo.\n"
   ]
  },
  {
   "cell_type": "code",
   "execution_count": 0,
   "metadata": {
    "colab": {
     "base_uri": "https://localhost:8080/",
     "height": 35
    },
    "colab_type": "code",
    "executionInfo": {
     "elapsed": 641,
     "status": "ok",
     "timestamp": 1590261210379,
     "user": {
      "displayName": "JARI NOGUEIRA",
      "photoUrl": "https://lh3.googleusercontent.com/a-/AOh14GgRKGSCD26xTXx6sFfsLUm3JSEQknFQhryblKZmLQ=s64",
      "userId": "11478176760466729345"
     },
     "user_tz": 180
    },
    "id": "igPB0wM1fLdt",
    "outputId": "19a43d18-2754-47fb-d217-0da5b537312a"
   },
   "outputs": [
    {
     "data": {
      "text/plain": [
       "(1820, 26)"
      ]
     },
     "execution_count": 57,
     "metadata": {
      "tags": []
     },
     "output_type": "execute_result"
    }
   ],
   "source": [
    "# Definindo o total de categorias e ajustando os arrays para input na rede.\n",
    "categorias = 26\n",
    "\n",
    "y_treino = keras.utils.to_categorical(y_treino, categorias)\n",
    "\n",
    "x_treino = np.expand_dims(x_treino, -1)\n",
    "y_treino = np.asarray(y_treino)\n",
    "y_treino.shape"
   ]
  },
  {
   "cell_type": "code",
   "execution_count": 0,
   "metadata": {
    "colab": {
     "base_uri": "https://localhost:8080/",
     "height": 35
    },
    "colab_type": "code",
    "executionInfo": {
     "elapsed": 591,
     "status": "ok",
     "timestamp": 1590261212555,
     "user": {
      "displayName": "JARI NOGUEIRA",
      "photoUrl": "https://lh3.googleusercontent.com/a-/AOh14GgRKGSCD26xTXx6sFfsLUm3JSEQknFQhryblKZmLQ=s64",
      "userId": "11478176760466729345"
     },
     "user_tz": 180
    },
    "id": "JR30hxG-fLfI",
    "outputId": "43d0b14c-8422-4279-a74e-09976c56ecb5"
   },
   "outputs": [
    {
     "data": {
      "text/plain": [
       "(93, 26)"
      ]
     },
     "execution_count": 58,
     "metadata": {
      "tags": []
     },
     "output_type": "execute_result"
    }
   ],
   "source": [
    "# Repetindo o processo anterior, na base de testes.\n",
    "\n",
    "y_teste = keras.utils.to_categorical(y_teste, categorias)\n",
    "\n",
    "x_teste = np.expand_dims(x_teste, -1)\n",
    "y_teste = np.asarray(y_teste)\n",
    "y_teste.shape"
   ]
  },
  {
   "cell_type": "code",
   "execution_count": 0,
   "metadata": {
    "colab": {},
    "colab_type": "code",
    "id": "1nWJ9vsWfLd9",
    "scrolled": false
   },
   "outputs": [],
   "source": [
    "## Criando o modelo.\n",
    "model = keras.Sequential()\n",
    "\n",
    "# Camada de convolução com ativação relu. \n",
    "# 32 filtros com tamanho 30x30\n",
    "model.add(Conv2D(32, kernel_size=(30, 30),\n",
    "                 activation = 'relu',\n",
    "                 input_shape = (240, 170, 1)))\n",
    "\n",
    "\n",
    "# 32 filtros com tamanho 30x30\n",
    "model.add(Conv2D(64, (30, 30), activation='relu'))\n",
    "\n",
    "# Camada de max-pooling, para reduzir o tamanho e capturar melhores features, com tamanho 50x50.\n",
    "model.add(MaxPooling2D(pool_size=(50, 50)))\n",
    "\n",
    "# Dropout de 25%, para ajudar no over-fitting.\n",
    "model.add(Dropout(0.25))\n",
    "\n",
    "# Camada de flatten, para reduzir as dimensões gerada pelo pooling.\n",
    "model.add(Flatten())\n",
    "\n",
    "\n",
    "# Camada fully connected.\n",
    "model.add(Dense(128, activation='relu'))\n",
    "\n",
    "# Dropout de 50% por segurança.\n",
    "model.add(Dropout(0.5))\n",
    "\n",
    "# Camada softmax para categorizar o resultado.\n",
    "model.add(Dense(26, activation='softmax')) # 26 categorias.\n"
   ]
  },
  {
   "cell_type": "code",
   "execution_count": 0,
   "metadata": {
    "colab": {},
    "colab_type": "code",
    "id": "au73Jp0RfLeG"
   },
   "outputs": [],
   "source": [
    "# Compilando o modelo.\n",
    "\n",
    "model.compile(loss=keras.losses.categorical_crossentropy,\n",
    "              optimizer=keras.optimizers.Adadelta(),\n",
    "              metrics=['accuracy'])"
   ]
  },
  {
   "cell_type": "code",
   "execution_count": 4,
   "metadata": {
    "colab": {
     "base_uri": "https://localhost:8080/",
     "height": 420
    },
    "colab_type": "code",
    "executionInfo": {
     "elapsed": 1333,
     "status": "ok",
     "timestamp": 1591647229905,
     "user": {
      "displayName": "JARI NOGUEIRA",
      "photoUrl": "https://lh3.googleusercontent.com/a-/AOh14GgRKGSCD26xTXx6sFfsLUm3JSEQknFQhryblKZmLQ=s64",
      "userId": "11478176760466729345"
     },
     "user_tz": 180
    },
    "id": "wJ8tIsH8fLeP",
    "outputId": "009f22d3-b7f1-4ae5-c78b-74c27bf0ada3"
   },
   "outputs": [
    {
     "name": "stdout",
     "output_type": "stream",
     "text": [
      "Model: \"sequential_1\"\n",
      "_________________________________________________________________\n",
      "Layer (type)                 Output Shape              Param #   \n",
      "=================================================================\n",
      "conv2d_1 (Conv2D)            (None, 211, 141, 32)      28832     \n",
      "_________________________________________________________________\n",
      "conv2d_2 (Conv2D)            (None, 182, 112, 64)      1843264   \n",
      "_________________________________________________________________\n",
      "max_pooling2d_1 (MaxPooling2 (None, 3, 2, 64)          0         \n",
      "_________________________________________________________________\n",
      "dropout_1 (Dropout)          (None, 3, 2, 64)          0         \n",
      "_________________________________________________________________\n",
      "flatten_1 (Flatten)          (None, 384)               0         \n",
      "_________________________________________________________________\n",
      "dense_1 (Dense)              (None, 128)               49280     \n",
      "_________________________________________________________________\n",
      "dropout_2 (Dropout)          (None, 128)               0         \n",
      "_________________________________________________________________\n",
      "dense_2 (Dense)              (None, 26)                3354      \n",
      "=================================================================\n",
      "Total params: 1,924,730\n",
      "Trainable params: 1,924,730\n",
      "Non-trainable params: 0\n",
      "_________________________________________________________________\n"
     ]
    }
   ],
   "source": [
    "# Exibindo o resumo de nossa CNN.\n",
    "model.summary()"
   ]
  },
  {
   "cell_type": "code",
   "execution_count": 0,
   "metadata": {
    "colab": {
     "base_uri": "https://localhost:8080/",
     "height": 1000
    },
    "colab_type": "code",
    "executionInfo": {
     "elapsed": 1033191,
     "status": "error",
     "timestamp": 1590262252516,
     "user": {
      "displayName": "JARI NOGUEIRA",
      "photoUrl": "https://lh3.googleusercontent.com/a-/AOh14GgRKGSCD26xTXx6sFfsLUm3JSEQknFQhryblKZmLQ=s64",
      "userId": "11478176760466729345"
     },
     "user_tz": 180
    },
    "id": "a8bbSW-qfLeX",
    "outputId": "9a14896b-a994-4206-ca8e-bdd90cce883f",
    "scrolled": true
   },
   "outputs": [
    {
     "name": "stdout",
     "output_type": "stream",
     "text": [
      "Train on 1820 samples, validate on 93 samples\n",
      "Epoch 1/100\n",
      "1820/1820 [==============================] - 15s 8ms/step - loss: 6.8057 - accuracy: 0.1176 - val_loss: 2.1078 - val_accuracy: 0.5161\n",
      "Epoch 2/100\n",
      "1820/1820 [==============================] - 15s 8ms/step - loss: 2.3614 - accuracy: 0.2874 - val_loss: 1.1120 - val_accuracy: 0.7527\n",
      "Epoch 3/100\n",
      "1820/1820 [==============================] - 15s 8ms/step - loss: 1.6973 - accuracy: 0.4786 - val_loss: 0.8238 - val_accuracy: 0.7849\n",
      "Epoch 4/100\n",
      "1820/1820 [==============================] - 15s 8ms/step - loss: 1.4190 - accuracy: 0.5659 - val_loss: 0.5779 - val_accuracy: 0.7634\n",
      "Epoch 5/100\n",
      "1820/1820 [==============================] - 15s 8ms/step - loss: 1.0232 - accuracy: 0.6857 - val_loss: 0.3594 - val_accuracy: 0.9140\n",
      "Epoch 6/100\n",
      "1820/1820 [==============================] - 15s 8ms/step - loss: 1.0117 - accuracy: 0.7181 - val_loss: 0.4365 - val_accuracy: 0.8065\n",
      "Epoch 7/100\n",
      "1820/1820 [==============================] - 15s 8ms/step - loss: 0.8386 - accuracy: 0.7511 - val_loss: 0.3011 - val_accuracy: 0.8817\n",
      "Epoch 8/100\n",
      "1820/1820 [==============================] - 15s 8ms/step - loss: 0.7190 - accuracy: 0.7852 - val_loss: 0.2866 - val_accuracy: 0.8710\n",
      "Epoch 9/100\n",
      "1820/1820 [==============================] - 15s 8ms/step - loss: 0.7025 - accuracy: 0.7984 - val_loss: 0.2347 - val_accuracy: 0.9355\n",
      "Epoch 10/100\n",
      "1820/1820 [==============================] - 15s 8ms/step - loss: 0.5541 - accuracy: 0.8335 - val_loss: 0.2254 - val_accuracy: 0.9247\n",
      "Epoch 11/100\n",
      "1820/1820 [==============================] - 15s 8ms/step - loss: 0.6255 - accuracy: 0.8346 - val_loss: 0.2185 - val_accuracy: 0.9247\n",
      "Epoch 12/100\n",
      "1820/1820 [==============================] - 15s 8ms/step - loss: 0.5552 - accuracy: 0.8489 - val_loss: 0.2442 - val_accuracy: 0.8925\n",
      "Epoch 13/100\n",
      "1820/1820 [==============================] - 15s 8ms/step - loss: 0.4981 - accuracy: 0.8626 - val_loss: 0.1730 - val_accuracy: 0.9462\n",
      "Epoch 14/100\n",
      "1820/1820 [==============================] - 15s 8ms/step - loss: 0.4097 - accuracy: 0.8687 - val_loss: 0.1311 - val_accuracy: 0.9355\n",
      "Epoch 15/100\n",
      "1820/1820 [==============================] - 15s 8ms/step - loss: 0.4324 - accuracy: 0.8967 - val_loss: 0.1353 - val_accuracy: 0.9570\n",
      "Epoch 16/100\n",
      "1820/1820 [==============================] - 15s 8ms/step - loss: 0.4137 - accuracy: 0.8956 - val_loss: 0.1213 - val_accuracy: 0.9462\n",
      "Epoch 17/100\n",
      "1820/1820 [==============================] - 15s 8ms/step - loss: 0.3769 - accuracy: 0.8989 - val_loss: 0.0698 - val_accuracy: 0.9677\n",
      "Epoch 18/100\n",
      "1820/1820 [==============================] - 15s 8ms/step - loss: 0.2893 - accuracy: 0.9187 - val_loss: 0.1595 - val_accuracy: 0.9247\n",
      "Epoch 19/100\n",
      "1820/1820 [==============================] - 15s 8ms/step - loss: 0.2928 - accuracy: 0.9225 - val_loss: 0.2406 - val_accuracy: 0.9355\n",
      "Epoch 20/100\n",
      "1820/1820 [==============================] - 15s 8ms/step - loss: 0.4241 - accuracy: 0.8967 - val_loss: 0.2497 - val_accuracy: 0.9247\n",
      "Epoch 21/100\n",
      "1820/1820 [==============================] - 15s 8ms/step - loss: 0.2524 - accuracy: 0.9363 - val_loss: 0.1765 - val_accuracy: 0.9355\n",
      "Epoch 22/100\n",
      "1820/1820 [==============================] - 15s 8ms/step - loss: 0.3020 - accuracy: 0.9401 - val_loss: 0.2258 - val_accuracy: 0.9355\n",
      "Epoch 23/100\n",
      "1820/1820 [==============================] - 15s 8ms/step - loss: 0.2774 - accuracy: 0.9368 - val_loss: 0.1221 - val_accuracy: 0.9570\n",
      "Epoch 24/100\n",
      "1820/1820 [==============================] - 15s 8ms/step - loss: 0.2557 - accuracy: 0.9357 - val_loss: 0.1577 - val_accuracy: 0.9355\n",
      "Epoch 25/100\n",
      "1820/1820 [==============================] - 15s 8ms/step - loss: 0.2574 - accuracy: 0.9379 - val_loss: 0.0441 - val_accuracy: 0.9677\n",
      "Epoch 26/100\n",
      "1820/1820 [==============================] - 15s 8ms/step - loss: 0.2338 - accuracy: 0.9418 - val_loss: 0.1369 - val_accuracy: 0.9677\n",
      "Epoch 27/100\n",
      "1820/1820 [==============================] - 15s 8ms/step - loss: 0.3151 - accuracy: 0.9390 - val_loss: 0.0589 - val_accuracy: 0.9892\n",
      "Epoch 28/100\n",
      "1820/1820 [==============================] - 15s 8ms/step - loss: 0.2430 - accuracy: 0.9500 - val_loss: 0.0810 - val_accuracy: 0.9785\n",
      "Epoch 29/100\n",
      "1820/1820 [==============================] - 15s 8ms/step - loss: 0.2352 - accuracy: 0.9445 - val_loss: 0.1317 - val_accuracy: 0.9462\n",
      "Epoch 30/100\n",
      "1820/1820 [==============================] - 15s 8ms/step - loss: 0.2124 - accuracy: 0.9511 - val_loss: 0.0949 - val_accuracy: 0.9892\n",
      "Epoch 31/100\n",
      "1820/1820 [==============================] - 15s 8ms/step - loss: 0.1937 - accuracy: 0.9560 - val_loss: 0.1070 - val_accuracy: 0.9785\n",
      "Epoch 32/100\n",
      "1820/1820 [==============================] - 15s 8ms/step - loss: 0.2535 - accuracy: 0.9467 - val_loss: 0.1410 - val_accuracy: 0.9785\n",
      "Epoch 33/100\n",
      "1820/1820 [==============================] - 15s 8ms/step - loss: 0.1801 - accuracy: 0.9577 - val_loss: 0.1216 - val_accuracy: 0.9892\n",
      "Epoch 34/100\n",
      "1820/1820 [==============================] - 15s 8ms/step - loss: 0.1775 - accuracy: 0.9599 - val_loss: 0.0710 - val_accuracy: 0.9785\n",
      "Epoch 35/100\n",
      "1820/1820 [==============================] - 15s 8ms/step - loss: 0.2365 - accuracy: 0.9555 - val_loss: 0.1087 - val_accuracy: 0.9570\n",
      "Epoch 36/100\n",
      "1820/1820 [==============================] - 15s 8ms/step - loss: 0.1769 - accuracy: 0.9621 - val_loss: 0.0674 - val_accuracy: 0.9892\n",
      "Epoch 37/100\n",
      "1820/1820 [==============================] - 15s 8ms/step - loss: 0.1842 - accuracy: 0.9560 - val_loss: 0.1262 - val_accuracy: 0.9570\n",
      "Epoch 38/100\n",
      "1820/1820 [==============================] - 15s 8ms/step - loss: 0.2441 - accuracy: 0.9571 - val_loss: 0.2353 - val_accuracy: 0.9462\n",
      "Epoch 39/100\n",
      "1820/1820 [==============================] - 15s 8ms/step - loss: 0.2067 - accuracy: 0.9626 - val_loss: 0.0087 - val_accuracy: 1.0000\n",
      "Epoch 40/100\n",
      "1820/1820 [==============================] - 15s 8ms/step - loss: 0.1667 - accuracy: 0.9643 - val_loss: 0.1209 - val_accuracy: 0.9677\n",
      "Epoch 41/100\n",
      "1820/1820 [==============================] - 15s 8ms/step - loss: 0.1097 - accuracy: 0.9758 - val_loss: 0.0995 - val_accuracy: 0.9570\n",
      "Epoch 42/100\n",
      "1820/1820 [==============================] - 15s 8ms/step - loss: 0.1210 - accuracy: 0.9769 - val_loss: 0.0555 - val_accuracy: 0.9892\n",
      "Epoch 43/100\n",
      "1820/1820 [==============================] - 15s 8ms/step - loss: 0.1339 - accuracy: 0.9731 - val_loss: 0.1793 - val_accuracy: 0.9462\n",
      "Epoch 44/100\n",
      "1820/1820 [==============================] - 15s 8ms/step - loss: 0.2297 - accuracy: 0.9604 - val_loss: 0.0436 - val_accuracy: 0.9785\n",
      "Epoch 45/100\n",
      "1820/1820 [==============================] - 15s 8ms/step - loss: 0.1671 - accuracy: 0.9681 - val_loss: 0.1546 - val_accuracy: 0.9355\n",
      "Epoch 46/100\n",
      "1820/1820 [==============================] - 15s 8ms/step - loss: 0.1778 - accuracy: 0.9665 - val_loss: 0.0753 - val_accuracy: 0.9892\n",
      "Epoch 47/100\n",
      "1820/1820 [==============================] - 15s 8ms/step - loss: 0.1565 - accuracy: 0.9703 - val_loss: 0.3455 - val_accuracy: 0.9355\n",
      "Epoch 48/100\n",
      "1820/1820 [==============================] - 15s 8ms/step - loss: 0.1305 - accuracy: 0.9703 - val_loss: 0.1663 - val_accuracy: 0.9462\n",
      "Epoch 49/100\n",
      "1820/1820 [==============================] - 15s 8ms/step - loss: 0.1690 - accuracy: 0.9632 - val_loss: 0.3212 - val_accuracy: 0.9355\n",
      "Epoch 50/100\n",
      "1820/1820 [==============================] - 15s 8ms/step - loss: 0.1323 - accuracy: 0.9698 - val_loss: 0.0278 - val_accuracy: 0.9892\n",
      "Epoch 51/100\n",
      "1820/1820 [==============================] - 15s 8ms/step - loss: 0.1484 - accuracy: 0.9731 - val_loss: 0.2853 - val_accuracy: 0.9677\n",
      "Epoch 52/100\n",
      "1820/1820 [==============================] - 15s 8ms/step - loss: 0.1938 - accuracy: 0.9681 - val_loss: 0.0819 - val_accuracy: 0.9785\n",
      "Epoch 53/100\n",
      "1820/1820 [==============================] - 15s 8ms/step - loss: 0.1596 - accuracy: 0.9709 - val_loss: 0.0424 - val_accuracy: 0.9785\n",
      "Epoch 54/100\n",
      "1820/1820 [==============================] - 15s 8ms/step - loss: 0.0900 - accuracy: 0.9758 - val_loss: 0.0972 - val_accuracy: 0.9677\n",
      "Epoch 55/100\n",
      "1820/1820 [==============================] - 15s 8ms/step - loss: 0.1152 - accuracy: 0.9764 - val_loss: 0.0956 - val_accuracy: 0.9677\n",
      "Epoch 56/100\n",
      "1820/1820 [==============================] - 15s 8ms/step - loss: 0.1482 - accuracy: 0.9736 - val_loss: 0.0097 - val_accuracy: 1.0000\n",
      "Epoch 57/100\n",
      "1820/1820 [==============================] - 15s 8ms/step - loss: 0.1714 - accuracy: 0.9725 - val_loss: 0.0099 - val_accuracy: 1.0000\n",
      "Epoch 58/100\n",
      "1820/1820 [==============================] - 15s 8ms/step - loss: 0.1377 - accuracy: 0.9747 - val_loss: 0.1039 - val_accuracy: 0.9677\n",
      "Epoch 59/100\n",
      "1820/1820 [==============================] - 15s 8ms/step - loss: 0.1482 - accuracy: 0.9714 - val_loss: 0.1450 - val_accuracy: 0.9570\n",
      "Epoch 60/100\n",
      "1820/1820 [==============================] - 15s 8ms/step - loss: 0.1949 - accuracy: 0.9681 - val_loss: 0.1700 - val_accuracy: 0.9677\n",
      "Epoch 61/100\n",
      "1820/1820 [==============================] - 15s 8ms/step - loss: 0.1458 - accuracy: 0.9747 - val_loss: 0.4687 - val_accuracy: 0.9570\n",
      "Epoch 62/100\n",
      "1820/1820 [==============================] - 15s 8ms/step - loss: 0.0952 - accuracy: 0.9808 - val_loss: 0.0672 - val_accuracy: 0.9892\n",
      "Epoch 63/100\n",
      "1820/1820 [==============================] - 15s 8ms/step - loss: 0.1497 - accuracy: 0.9775 - val_loss: 0.0555 - val_accuracy: 0.9785\n",
      "Epoch 64/100\n",
      "1820/1820 [==============================] - 15s 8ms/step - loss: 0.0938 - accuracy: 0.9791 - val_loss: 0.3047 - val_accuracy: 0.9785\n",
      "Epoch 65/100\n",
      "1820/1820 [==============================] - 15s 8ms/step - loss: 0.2160 - accuracy: 0.9687 - val_loss: 0.3220 - val_accuracy: 0.9247\n",
      "Epoch 66/100\n",
      "1820/1820 [==============================] - 15s 8ms/step - loss: 0.1624 - accuracy: 0.9725 - val_loss: 0.0902 - val_accuracy: 0.9892\n",
      "Epoch 67/100\n",
      "1820/1820 [==============================] - 15s 8ms/step - loss: 0.1415 - accuracy: 0.9758 - val_loss: 0.0741 - val_accuracy: 0.9892\n",
      "Epoch 68/100\n",
      "1820/1820 [==============================] - 15s 8ms/step - loss: 0.1407 - accuracy: 0.9819 - val_loss: 0.0792 - val_accuracy: 0.9677\n",
      "Epoch 69/100\n",
      "1820/1820 [==============================] - 15s 8ms/step - loss: 0.1128 - accuracy: 0.9819 - val_loss: 0.0065 - val_accuracy: 1.0000\n",
      "Epoch 70/100\n",
      " 704/1820 [==========>...................] - ETA: 8s - loss: 0.1117 - accuracy: 0.9801"
     ]
    },
    {
     "ename": "KeyboardInterrupt",
     "evalue": "ignored",
     "output_type": "error",
     "traceback": [
      "\u001b[0;31m---------------------------------------------------------------------------\u001b[0m",
      "\u001b[0;31mKeyboardInterrupt\u001b[0m                         Traceback (most recent call last)",
      "\u001b[0;32m<ipython-input-62-ea13c6ba3a47>\u001b[0m in \u001b[0;36m<module>\u001b[0;34m()\u001b[0m\n\u001b[1;32m      7\u001b[0m           \u001b[0mepochs\u001b[0m\u001b[0;34m=\u001b[0m\u001b[0mnum_epoch\u001b[0m\u001b[0;34m,\u001b[0m\u001b[0;34m\u001b[0m\u001b[0;34m\u001b[0m\u001b[0m\n\u001b[1;32m      8\u001b[0m           \u001b[0mverbose\u001b[0m\u001b[0;34m=\u001b[0m\u001b[0;36m1\u001b[0m\u001b[0;34m,\u001b[0m\u001b[0;34m\u001b[0m\u001b[0;34m\u001b[0m\u001b[0m\n\u001b[0;32m----> 9\u001b[0;31m           validation_data=(x_teste, y_teste))\n\u001b[0m",
      "\u001b[0;32m/usr/local/lib/python3.6/dist-packages/keras/engine/training.py\u001b[0m in \u001b[0;36mfit\u001b[0;34m(self, x, y, batch_size, epochs, verbose, callbacks, validation_split, validation_data, shuffle, class_weight, sample_weight, initial_epoch, steps_per_epoch, validation_steps, validation_freq, max_queue_size, workers, use_multiprocessing, **kwargs)\u001b[0m\n\u001b[1;32m   1237\u001b[0m                                         \u001b[0msteps_per_epoch\u001b[0m\u001b[0;34m=\u001b[0m\u001b[0msteps_per_epoch\u001b[0m\u001b[0;34m,\u001b[0m\u001b[0;34m\u001b[0m\u001b[0;34m\u001b[0m\u001b[0m\n\u001b[1;32m   1238\u001b[0m                                         \u001b[0mvalidation_steps\u001b[0m\u001b[0;34m=\u001b[0m\u001b[0mvalidation_steps\u001b[0m\u001b[0;34m,\u001b[0m\u001b[0;34m\u001b[0m\u001b[0;34m\u001b[0m\u001b[0m\n\u001b[0;32m-> 1239\u001b[0;31m                                         validation_freq=validation_freq)\n\u001b[0m\u001b[1;32m   1240\u001b[0m \u001b[0;34m\u001b[0m\u001b[0m\n\u001b[1;32m   1241\u001b[0m     def evaluate(self,\n",
      "\u001b[0;32m/usr/local/lib/python3.6/dist-packages/keras/engine/training_arrays.py\u001b[0m in \u001b[0;36mfit_loop\u001b[0;34m(model, fit_function, fit_inputs, out_labels, batch_size, epochs, verbose, callbacks, val_function, val_inputs, shuffle, initial_epoch, steps_per_epoch, validation_steps, validation_freq)\u001b[0m\n\u001b[1;32m    194\u001b[0m                     \u001b[0mins_batch\u001b[0m\u001b[0;34m[\u001b[0m\u001b[0mi\u001b[0m\u001b[0;34m]\u001b[0m \u001b[0;34m=\u001b[0m \u001b[0mins_batch\u001b[0m\u001b[0;34m[\u001b[0m\u001b[0mi\u001b[0m\u001b[0;34m]\u001b[0m\u001b[0;34m.\u001b[0m\u001b[0mtoarray\u001b[0m\u001b[0;34m(\u001b[0m\u001b[0;34m)\u001b[0m\u001b[0;34m\u001b[0m\u001b[0;34m\u001b[0m\u001b[0m\n\u001b[1;32m    195\u001b[0m \u001b[0;34m\u001b[0m\u001b[0m\n\u001b[0;32m--> 196\u001b[0;31m                 \u001b[0mouts\u001b[0m \u001b[0;34m=\u001b[0m \u001b[0mfit_function\u001b[0m\u001b[0;34m(\u001b[0m\u001b[0mins_batch\u001b[0m\u001b[0;34m)\u001b[0m\u001b[0;34m\u001b[0m\u001b[0;34m\u001b[0m\u001b[0m\n\u001b[0m\u001b[1;32m    197\u001b[0m                 \u001b[0mouts\u001b[0m \u001b[0;34m=\u001b[0m \u001b[0mto_list\u001b[0m\u001b[0;34m(\u001b[0m\u001b[0mouts\u001b[0m\u001b[0;34m)\u001b[0m\u001b[0;34m\u001b[0m\u001b[0;34m\u001b[0m\u001b[0m\n\u001b[1;32m    198\u001b[0m                 \u001b[0;32mfor\u001b[0m \u001b[0ml\u001b[0m\u001b[0;34m,\u001b[0m \u001b[0mo\u001b[0m \u001b[0;32min\u001b[0m \u001b[0mzip\u001b[0m\u001b[0;34m(\u001b[0m\u001b[0mout_labels\u001b[0m\u001b[0;34m,\u001b[0m \u001b[0mouts\u001b[0m\u001b[0;34m)\u001b[0m\u001b[0;34m:\u001b[0m\u001b[0;34m\u001b[0m\u001b[0;34m\u001b[0m\u001b[0m\n",
      "\u001b[0;32m/usr/local/lib/python3.6/dist-packages/tensorflow/python/keras/backend.py\u001b[0m in \u001b[0;36m__call__\u001b[0;34m(self, inputs)\u001b[0m\n\u001b[1;32m   3790\u001b[0m         \u001b[0mvalue\u001b[0m \u001b[0;34m=\u001b[0m \u001b[0mmath_ops\u001b[0m\u001b[0;34m.\u001b[0m\u001b[0mcast\u001b[0m\u001b[0;34m(\u001b[0m\u001b[0mvalue\u001b[0m\u001b[0;34m,\u001b[0m \u001b[0mtensor\u001b[0m\u001b[0;34m.\u001b[0m\u001b[0mdtype\u001b[0m\u001b[0;34m)\u001b[0m\u001b[0;34m\u001b[0m\u001b[0;34m\u001b[0m\u001b[0m\n\u001b[1;32m   3791\u001b[0m       \u001b[0mconverted_inputs\u001b[0m\u001b[0;34m.\u001b[0m\u001b[0mappend\u001b[0m\u001b[0;34m(\u001b[0m\u001b[0mvalue\u001b[0m\u001b[0;34m)\u001b[0m\u001b[0;34m\u001b[0m\u001b[0;34m\u001b[0m\u001b[0m\n\u001b[0;32m-> 3792\u001b[0;31m     \u001b[0moutputs\u001b[0m \u001b[0;34m=\u001b[0m \u001b[0mself\u001b[0m\u001b[0;34m.\u001b[0m\u001b[0m_graph_fn\u001b[0m\u001b[0;34m(\u001b[0m\u001b[0;34m*\u001b[0m\u001b[0mconverted_inputs\u001b[0m\u001b[0;34m)\u001b[0m\u001b[0;34m\u001b[0m\u001b[0;34m\u001b[0m\u001b[0m\n\u001b[0m\u001b[1;32m   3793\u001b[0m \u001b[0;34m\u001b[0m\u001b[0m\n\u001b[1;32m   3794\u001b[0m     \u001b[0;31m# EagerTensor.numpy() will often make a copy to ensure memory safety.\u001b[0m\u001b[0;34m\u001b[0m\u001b[0;34m\u001b[0m\u001b[0;34m\u001b[0m\u001b[0m\n",
      "\u001b[0;32m/usr/local/lib/python3.6/dist-packages/tensorflow/python/eager/function.py\u001b[0m in \u001b[0;36m__call__\u001b[0;34m(self, *args, **kwargs)\u001b[0m\n\u001b[1;32m   1603\u001b[0m       \u001b[0mTypeError\u001b[0m\u001b[0;34m:\u001b[0m \u001b[0mFor\u001b[0m \u001b[0minvalid\u001b[0m \u001b[0mpositional\u001b[0m\u001b[0;34m/\u001b[0m\u001b[0mkeyword\u001b[0m \u001b[0margument\u001b[0m \u001b[0mcombinations\u001b[0m\u001b[0;34m.\u001b[0m\u001b[0;34m\u001b[0m\u001b[0;34m\u001b[0m\u001b[0m\n\u001b[1;32m   1604\u001b[0m     \"\"\"\n\u001b[0;32m-> 1605\u001b[0;31m     \u001b[0;32mreturn\u001b[0m \u001b[0mself\u001b[0m\u001b[0;34m.\u001b[0m\u001b[0m_call_impl\u001b[0m\u001b[0;34m(\u001b[0m\u001b[0margs\u001b[0m\u001b[0;34m,\u001b[0m \u001b[0mkwargs\u001b[0m\u001b[0;34m)\u001b[0m\u001b[0;34m\u001b[0m\u001b[0;34m\u001b[0m\u001b[0m\n\u001b[0m\u001b[1;32m   1606\u001b[0m \u001b[0;34m\u001b[0m\u001b[0m\n\u001b[1;32m   1607\u001b[0m   \u001b[0;32mdef\u001b[0m \u001b[0m_call_impl\u001b[0m\u001b[0;34m(\u001b[0m\u001b[0mself\u001b[0m\u001b[0;34m,\u001b[0m \u001b[0margs\u001b[0m\u001b[0;34m,\u001b[0m \u001b[0mkwargs\u001b[0m\u001b[0;34m,\u001b[0m \u001b[0mcancellation_manager\u001b[0m\u001b[0;34m=\u001b[0m\u001b[0;32mNone\u001b[0m\u001b[0;34m)\u001b[0m\u001b[0;34m:\u001b[0m\u001b[0;34m\u001b[0m\u001b[0;34m\u001b[0m\u001b[0m\n",
      "\u001b[0;32m/usr/local/lib/python3.6/dist-packages/tensorflow/python/eager/function.py\u001b[0m in \u001b[0;36m_call_impl\u001b[0;34m(self, args, kwargs, cancellation_manager)\u001b[0m\n\u001b[1;32m   1643\u001b[0m       raise TypeError(\"Keyword arguments {} unknown. Expected {}.\".format(\n\u001b[1;32m   1644\u001b[0m           list(kwargs.keys()), list(self._arg_keywords)))\n\u001b[0;32m-> 1645\u001b[0;31m     \u001b[0;32mreturn\u001b[0m \u001b[0mself\u001b[0m\u001b[0;34m.\u001b[0m\u001b[0m_call_flat\u001b[0m\u001b[0;34m(\u001b[0m\u001b[0margs\u001b[0m\u001b[0;34m,\u001b[0m \u001b[0mself\u001b[0m\u001b[0;34m.\u001b[0m\u001b[0mcaptured_inputs\u001b[0m\u001b[0;34m,\u001b[0m \u001b[0mcancellation_manager\u001b[0m\u001b[0;34m)\u001b[0m\u001b[0;34m\u001b[0m\u001b[0;34m\u001b[0m\u001b[0m\n\u001b[0m\u001b[1;32m   1646\u001b[0m \u001b[0;34m\u001b[0m\u001b[0m\n\u001b[1;32m   1647\u001b[0m   \u001b[0;32mdef\u001b[0m \u001b[0m_filtered_call\u001b[0m\u001b[0;34m(\u001b[0m\u001b[0mself\u001b[0m\u001b[0;34m,\u001b[0m \u001b[0margs\u001b[0m\u001b[0;34m,\u001b[0m \u001b[0mkwargs\u001b[0m\u001b[0;34m)\u001b[0m\u001b[0;34m:\u001b[0m\u001b[0;34m\u001b[0m\u001b[0;34m\u001b[0m\u001b[0m\n",
      "\u001b[0;32m/usr/local/lib/python3.6/dist-packages/tensorflow/python/eager/function.py\u001b[0m in \u001b[0;36m_call_flat\u001b[0;34m(self, args, captured_inputs, cancellation_manager)\u001b[0m\n\u001b[1;32m   1744\u001b[0m       \u001b[0;31m# No tape is watching; skip to running the function.\u001b[0m\u001b[0;34m\u001b[0m\u001b[0;34m\u001b[0m\u001b[0;34m\u001b[0m\u001b[0m\n\u001b[1;32m   1745\u001b[0m       return self._build_call_outputs(self._inference_function.call(\n\u001b[0;32m-> 1746\u001b[0;31m           ctx, args, cancellation_manager=cancellation_manager))\n\u001b[0m\u001b[1;32m   1747\u001b[0m     forward_backward = self._select_forward_and_backward_functions(\n\u001b[1;32m   1748\u001b[0m         \u001b[0margs\u001b[0m\u001b[0;34m,\u001b[0m\u001b[0;34m\u001b[0m\u001b[0;34m\u001b[0m\u001b[0m\n",
      "\u001b[0;32m/usr/local/lib/python3.6/dist-packages/tensorflow/python/eager/function.py\u001b[0m in \u001b[0;36mcall\u001b[0;34m(self, ctx, args, cancellation_manager)\u001b[0m\n\u001b[1;32m    596\u001b[0m               \u001b[0minputs\u001b[0m\u001b[0;34m=\u001b[0m\u001b[0margs\u001b[0m\u001b[0;34m,\u001b[0m\u001b[0;34m\u001b[0m\u001b[0;34m\u001b[0m\u001b[0m\n\u001b[1;32m    597\u001b[0m               \u001b[0mattrs\u001b[0m\u001b[0;34m=\u001b[0m\u001b[0mattrs\u001b[0m\u001b[0;34m,\u001b[0m\u001b[0;34m\u001b[0m\u001b[0;34m\u001b[0m\u001b[0m\n\u001b[0;32m--> 598\u001b[0;31m               ctx=ctx)\n\u001b[0m\u001b[1;32m    599\u001b[0m         \u001b[0;32melse\u001b[0m\u001b[0;34m:\u001b[0m\u001b[0;34m\u001b[0m\u001b[0;34m\u001b[0m\u001b[0m\n\u001b[1;32m    600\u001b[0m           outputs = execute.execute_with_cancellation(\n",
      "\u001b[0;32m/usr/local/lib/python3.6/dist-packages/tensorflow/python/eager/execute.py\u001b[0m in \u001b[0;36mquick_execute\u001b[0;34m(op_name, num_outputs, inputs, attrs, ctx, name)\u001b[0m\n\u001b[1;32m     58\u001b[0m     \u001b[0mctx\u001b[0m\u001b[0;34m.\u001b[0m\u001b[0mensure_initialized\u001b[0m\u001b[0;34m(\u001b[0m\u001b[0;34m)\u001b[0m\u001b[0;34m\u001b[0m\u001b[0;34m\u001b[0m\u001b[0m\n\u001b[1;32m     59\u001b[0m     tensors = pywrap_tfe.TFE_Py_Execute(ctx._handle, device_name, op_name,\n\u001b[0;32m---> 60\u001b[0;31m                                         inputs, attrs, num_outputs)\n\u001b[0m\u001b[1;32m     61\u001b[0m   \u001b[0;32mexcept\u001b[0m \u001b[0mcore\u001b[0m\u001b[0;34m.\u001b[0m\u001b[0m_NotOkStatusException\u001b[0m \u001b[0;32mas\u001b[0m \u001b[0me\u001b[0m\u001b[0;34m:\u001b[0m\u001b[0;34m\u001b[0m\u001b[0;34m\u001b[0m\u001b[0m\n\u001b[1;32m     62\u001b[0m     \u001b[0;32mif\u001b[0m \u001b[0mname\u001b[0m \u001b[0;32mis\u001b[0m \u001b[0;32mnot\u001b[0m \u001b[0;32mNone\u001b[0m\u001b[0;34m:\u001b[0m\u001b[0;34m\u001b[0m\u001b[0;34m\u001b[0m\u001b[0m\n",
      "\u001b[0;31mKeyboardInterrupt\u001b[0m: "
     ]
    }
   ],
   "source": [
    "# Definindo o número de épocas.\n",
    "## OBS: Utilizaremos 100% das amostras de treinamento, para validação: Batch Gradient Descent.\n",
    "\n",
    "num_epoch = 100 \n",
    "\n",
    "# Treinamento da rede.\n",
    "model_log = model.fit(x_treino, y_treino,\n",
    "          epochs=num_epoch,\n",
    "          verbose=1,\n",
    "          validation_data=(x_teste, y_teste))"
   ]
  },
  {
   "cell_type": "markdown",
   "metadata": {
    "colab_type": "text",
    "id": "-YudwIoufLef"
   },
   "source": [
    "## Aplicando modelo na base de testes."
   ]
  },
  {
   "cell_type": "code",
   "execution_count": 0,
   "metadata": {
    "colab": {
     "base_uri": "https://localhost:8080/",
     "height": 54
    },
    "colab_type": "code",
    "executionInfo": {
     "elapsed": 917,
     "status": "ok",
     "timestamp": 1590262260966,
     "user": {
      "displayName": "JARI NOGUEIRA",
      "photoUrl": "https://lh3.googleusercontent.com/a-/AOh14GgRKGSCD26xTXx6sFfsLUm3JSEQknFQhryblKZmLQ=s64",
      "userId": "11478176760466729345"
     },
     "user_tz": 180
    },
    "id": "AKaooxbIfLfj",
    "outputId": "d72f2b95-a9f1-46f3-a0f2-9b5b11577e88",
    "scrolled": false
   },
   "outputs": [
    {
     "name": "stdout",
     "output_type": "stream",
     "text": [
      "Test loss: 0.002968761559215284\n",
      "Test accuracy: 1.0\n"
     ]
    }
   ],
   "source": [
    "# Aplicando Score na base de testes e exibindo a acurácia e loss.\n",
    "score = model.evaluate(x_teste, y_teste, verbose=0)\n",
    "print('Test loss:', score[0]) \n",
    "print('Test accuracy:', score[1]) "
   ]
  },
  {
   "cell_type": "code",
   "execution_count": 0,
   "metadata": {
    "colab": {},
    "colab_type": "code",
    "id": "oiDG8-z_fLfw"
   },
   "outputs": [],
   "source": [
    "# Adicionando resultado e criando coluna para filtro de erros.\n",
    "y_prob = model.predict(x_teste) \n",
    "y_classes = y_prob.argmax(axis=-1)\n",
    "\n",
    "teste['PREDICT_INDEX'] = y_classes"
   ]
  },
  {
   "cell_type": "code",
   "execution_count": 0,
   "metadata": {
    "colab": {
     "base_uri": "https://localhost:8080/",
     "height": 49
    },
    "colab_type": "code",
    "executionInfo": {
     "elapsed": 660,
     "status": "ok",
     "timestamp": 1590262287782,
     "user": {
      "displayName": "JARI NOGUEIRA",
      "photoUrl": "https://lh3.googleusercontent.com/a-/AOh14GgRKGSCD26xTXx6sFfsLUm3JSEQknFQhryblKZmLQ=s64",
      "userId": "11478176760466729345"
     },
     "user_tz": 180
    },
    "id": "7zBJxosFqDXD",
    "outputId": "4e177dc5-4c18-497c-b77a-6c68683d1013"
   },
   "outputs": [
    {
     "data": {
      "text/html": [
       "<div>\n",
       "<style scoped>\n",
       "    .dataframe tbody tr th:only-of-type {\n",
       "        vertical-align: middle;\n",
       "    }\n",
       "\n",
       "    .dataframe tbody tr th {\n",
       "        vertical-align: top;\n",
       "    }\n",
       "\n",
       "    .dataframe thead th {\n",
       "        text-align: right;\n",
       "    }\n",
       "</style>\n",
       "<table border=\"1\" class=\"dataframe\">\n",
       "  <thead>\n",
       "    <tr style=\"text-align: right;\">\n",
       "      <th></th>\n",
       "      <th>IMAGEM</th>\n",
       "      <th>ROTULO</th>\n",
       "      <th>PREDICT</th>\n",
       "      <th>ERROR</th>\n",
       "    </tr>\n",
       "  </thead>\n",
       "  <tbody>\n",
       "  </tbody>\n",
       "</table>\n",
       "</div>"
      ],
      "text/plain": [
       "Empty DataFrame\n",
       "Columns: [IMAGEM, ROTULO, PREDICT, ERROR]\n",
       "Index: []"
      ]
     },
     "execution_count": 65,
     "metadata": {
      "tags": []
     },
     "output_type": "execute_result"
    }
   ],
   "source": [
    "# Em caso de erros, filtrando e exibindo os caracteres específicos.\n",
    "teste['PREDICT'] = teste['PREDICT_INDEX']\n",
    "teste = teste.replace({'PREDICT': dic_nc})\n",
    "teste = teste.drop(['ROTULO_INDEX', 'PREDICT_INDEX'], axis = 1)\n",
    "\n",
    "teste['ERROR'] = np.where((teste['ROTULO'] == teste['PREDICT']) , 0, 1)\n",
    "\n",
    "teste = teste.sort_values('IMAGEM')\n",
    "teste[teste.ERROR == 1]"
   ]
  },
  {
   "cell_type": "markdown",
   "metadata": {
    "colab_type": "text",
    "id": "rT-SkwyOfLf6"
   },
   "source": [
    "# Gravando e carregando modelo treinado."
   ]
  },
  {
   "cell_type": "code",
   "execution_count": 0,
   "metadata": {
    "colab": {
     "base_uri": "https://localhost:8080/",
     "height": 35
    },
    "colab_type": "code",
    "executionInfo": {
     "elapsed": 685,
     "status": "ok",
     "timestamp": 1590262326416,
     "user": {
      "displayName": "JARI NOGUEIRA",
      "photoUrl": "https://lh3.googleusercontent.com/a-/AOh14GgRKGSCD26xTXx6sFfsLUm3JSEQknFQhryblKZmLQ=s64",
      "userId": "11478176760466729345"
     },
     "user_tz": 180
    },
    "id": "0LtliPAkfLf8",
    "outputId": "4ad43d77-d9c5-4fe4-d761-ccdf47cca0c4"
   },
   "outputs": [
    {
     "name": "stdout",
     "output_type": "stream",
     "text": [
      "Modelo gravado na pasta de códigos.\n"
     ]
    }
   ],
   "source": [
    "# Salvando o modelo treinado.\n",
    "\n",
    "# Criando Json com o modelo.\n",
    "model_json = model.to_json()\n",
    "with open(\"/content/model_char_100-1.json\", \"w\") as json_file:\n",
    "    json_file.write(model_json)\n",
    "    \n",
    "# Gravando pesos do modelo em HDF5 - Hierarchical Data Format.\n",
    "model.save_weights(\"/content/model_char_100-1.h5\")\n",
    "print(\"Modelo gravado na pasta de códigos.\")"
   ]
  },
  {
   "cell_type": "code",
   "execution_count": 0,
   "metadata": {
    "colab": {},
    "colab_type": "code",
    "id": "bOzb9JcefLgA",
    "outputId": "ea828388-7fd5-4f8c-f240-bc9d86bf2041"
   },
   "outputs": [
    {
     "name": "stdout",
     "output_type": "stream",
     "text": [
      "Modelo carregado.\n",
      "accuracy: 100.00%\n"
     ]
    }
   ],
   "source": [
    "# Carrega o arquivo JSON e re-cria o modelo.\n",
    "json_file = open('./Modelos/model_char_01.json', 'r')\n",
    "loaded_model_json = json_file.read()\n",
    "json_file.close()\n",
    "model = model_from_json(loaded_model_json)\n",
    "\n",
    "# Carrega os pesos e adiciona ao modelo.\n",
    "model.load_weights(\"./Modelos/model_char_01.h5\")\n",
    "print(\"Modelo carregado.\")\n",
    " \n",
    "# Avalia o modelo carregado na base de testes.\n",
    "model.compile(loss='binary_crossentropy', optimizer='rmsprop', metrics=['accuracy'])\n",
    "score = model.evaluate(x_teste, y_teste, verbose=0)\n",
    "print(\"%s: %.2f%%\" % (model.metrics_names[1], score[1]*100))"
   ]
  },
  {
   "cell_type": "markdown",
   "metadata": {},
   "source": [
    "## Plotando resultados."
   ]
  },
  {
   "cell_type": "code",
   "execution_count": 0,
   "metadata": {
    "colab": {
     "base_uri": "https://localhost:8080/",
     "height": 195
    },
    "colab_type": "code",
    "executionInfo": {
     "elapsed": 656,
     "status": "ok",
     "timestamp": 1590004116462,
     "user": {
      "displayName": "JARI NOGUEIRA",
      "photoUrl": "https://lh3.googleusercontent.com/a-/AOh14GgRKGSCD26xTXx6sFfsLUm3JSEQknFQhryblKZmLQ=s64",
      "userId": "11478176760466729345"
     },
     "user_tz": 180
    },
    "id": "cxEbq2kjfLgK",
    "outputId": "89d9b02a-2b38-4b73-f91c-aa60e10fbc34"
   },
   "outputs": [
    {
     "data": {
      "text/plain": [
       "Text(0.5, 0, 'epoch')"
      ]
     },
     "execution_count": 131,
     "metadata": {
      "tags": []
     },
     "output_type": "execute_result"
    },
    {
     "data": {
      "image/png": "[encoded data removed]",
      "text/plain": [
       "<Figure size 432x288 with 1 Axes>"
      ]
     },
     "metadata": {
      "needs_background": "light",
      "tags": []
     },
     "output_type": "display_data"
    }
   ],
   "source": [
    "fig = plt.figure()\n",
    "plt.subplot(2,1,1)\n",
    "plt.plot(model_log.history['accuracy'])\n",
    "plt.plot(model_log.history['val_accuracy'])\n",
    "plt.title('model accuracy')\n",
    "plt.ylabel('accuracy')\n",
    "plt.xlabel('epoch')\n",
    "\n"
   ]
  },
  {
   "cell_type": "code",
   "execution_count": 0,
   "metadata": {
    "colab": {
     "base_uri": "https://localhost:8080/",
     "height": 342
    },
    "colab_type": "code",
    "executionInfo": {
     "elapsed": 785,
     "status": "ok",
     "timestamp": 1590004117827,
     "user": {
      "displayName": "JARI NOGUEIRA",
      "photoUrl": "https://lh3.googleusercontent.com/a-/AOh14GgRKGSCD26xTXx6sFfsLUm3JSEQknFQhryblKZmLQ=s64",
      "userId": "11478176760466729345"
     },
     "user_tz": 180
    },
    "id": "hdLZEeTofLgR",
    "outputId": "0bd31ff1-c0fa-45c6-e4d7-50bdb0abec06"
   },
   "outputs": [
    {
     "data": {
      "image/png": "[encoded data removed]",
      "text/plain": [
       "<Figure size 432x288 with 1 Axes>"
      ]
     },
     "execution_count": 132,
     "metadata": {
      "tags": []
     },
     "output_type": "execute_result"
    },
    {
     "data": {
      "image/png": "[encoded data removed]",
      "text/plain": [
       "<Figure size 432x288 with 1 Axes>"
      ]
     },
     "metadata": {
      "needs_background": "light",
      "tags": []
     },
     "output_type": "display_data"
    }
   ],
   "source": [
    "plt.legend(['train', 'test'], loc='lower right')\n",
    "plt.subplot(2,1,2)\n",
    "plt.plot(model_log.history['loss'])\n",
    "plt.plot(model_log.history['val_loss'])\n",
    "plt.title('model loss')\n",
    "plt.ylabel('loss')\n",
    "plt.xlabel('epoch')\n",
    "plt.legend(['train', 'test'], loc='upper right')\n",
    "plt.tight_layout()\n",
    "fig"
   ]
  }
 ],
 "metadata": {
  "accelerator": "GPU",
  "colab": {
   "collapsed_sections": [],
   "name": "2.2_CNN_char_Plate-recognition.ipynb",
   "provenance": [],
   "toc_visible": true
  },
  "kernelspec": {
   "display_name": "Python 3",
   "language": "python",
   "name": "python3"
  },
  "language_info": {
   "codemirror_mode": {
    "name": "ipython",
    "version": 3
   },
   "file_extension": ".py",
   "mimetype": "text/x-python",
   "name": "python",
   "nbconvert_exporter": "python",
   "pygments_lexer": "ipython3",
   "version": "3.7.3"
  }
 },
 "nbformat": 4,
 "nbformat_minor": 1
}
